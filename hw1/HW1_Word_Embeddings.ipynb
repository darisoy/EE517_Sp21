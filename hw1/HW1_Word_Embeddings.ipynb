{
 "cells": [
  {
   "cell_type": "code",
   "execution_count": 12,
   "metadata": {},
   "outputs": [],
   "source": [
    "import gensim\n",
    "import numpy as np\n",
    "from tqdm import tqdm_notebook as tqdm\n",
    "import pickle"
   ]
  },
  {
   "cell_type": "code",
   "execution_count": 2,
   "metadata": {},
   "outputs": [],
   "source": [
    "### Pretrained word2vec\n",
    "# Google’s pre-trained Word2Vec (1.5GB), word vectors for a vocabulary of 3 million words \n",
    "# and phrases that they trained on roughly 100 billion words from a Google News dataset\n",
    "# https://code.google.com/archive/p/word2vec/\n",
    "model = gensim.models.KeyedVectors.load_word2vec_format('./word2vec_pretrained/GoogleNews-vectors-negative300.bin', binary=True)  "
   ]
  },
  {
   "cell_type": "code",
   "execution_count": 3,
   "metadata": {},
   "outputs": [
    {
     "name": "stdout",
     "output_type": "stream",
     "text": [
      "Vocab size:  3000000\n"
     ]
    }
   ],
   "source": [
    "# Check vocab size\n",
    "words = list(model.vocab)\n",
    "print(\"Vocab size: \", len(words))"
   ]
  },
  {
   "cell_type": "code",
   "execution_count": 4,
   "metadata": {},
   "outputs": [],
   "source": [
    "# Get cosine distance between two vectors\n",
    "def get_cosine_dist(vec1, vec2):\n",
    "    dist = np.dot(vec1, vec2)/(np.linalg.norm(vec1)*np.linalg.norm(vec2))\n",
    "    return dist"
   ]
  },
  {
   "cell_type": "code",
   "execution_count": 5,
   "metadata": {},
   "outputs": [
    {
     "name": "stdout",
     "output_type": "stream",
     "text": [
      "Cosine distance (similar) : 0.8322346\n",
      "Cosine distance (different) : 0.14340287\n"
     ]
    }
   ],
   "source": [
    "# Sanity check on distance function\n",
    "a = model.__getitem__(\"Yangtze_River\")\n",
    "b = model.__getitem__(\"Yangtze\")\n",
    "c = model.__getitem__(\"sushi\")\n",
    "print(\"Cosine distance (similar) :\", get_cosine_dist(a, b))\n",
    "print(\"Cosine distance (different) :\", get_cosine_dist(a, c))"
   ]
  },
  {
   "cell_type": "code",
   "execution_count": 6,
   "metadata": {},
   "outputs": [],
   "source": [
    "# Get k closest words for an embedding\n",
    "def get_neighbors(target_word_vec, vocab_words, k):\n",
    "    '''\n",
    "    Input:\n",
    "    target_word_vec: word embedding\n",
    "    vocab_words: list of words in vocabulary\n",
    "    k: number of neighbors to get\n",
    "    \n",
    "    Output:\n",
    "    k_nearest: k nearest words\n",
    "    '''\n",
    "    \n",
    "    # calculate cosine distance between target word embedding and each word embedding of words in vocab\n",
    "    # for each word in vocab, record cosine distance and that word \n",
    "    dist_item = [[None,None] for word in vocab_words]\n",
    "    for i in tqdm(range(len(vocab_words))):\n",
    "        item = vocab_words[i]\n",
    "        item_word_vec =  model.__getitem__(item)\n",
    "        item_dist = get_cosine_dist(item_word_vec, target_word_vec)\n",
    "        dist_item[i] = [item_dist,item]\n",
    "\n",
    "    # now sort dist_item so words with the most positive cosine distance will be at the front of the list\n",
    "    sorted_dist_item = sorted(dist_item, reverse = True)\n",
    "\n",
    "    # get labels of k nearest neighbours\n",
    "    k_nearest = []\n",
    "    for neighbour in sorted_dist_item[:k]:\n",
    "        k_nearest.append(neighbour[1])\n",
    "\n",
    "    return k_nearest"
   ]
  },
  {
   "cell_type": "code",
   "execution_count": 7,
   "metadata": {},
   "outputs": [],
   "source": [
    "def find_closest3_for_analogy_list(filename):\n",
    "\n",
    "    word_list_file = open(filename).readlines()\n",
    "    analogies = [line.strip().split() for line in word_list_file if line.strip() != \"\"]\n",
    "    \n",
    "    closest_words_list = [None for i in range(len(analogies))]\n",
    "    answer = [item[-1] for item in analogies]\n",
    "    \n",
    "    for idx, analogy in enumerate(analogies):\n",
    "    \n",
    "        # look up embeddings for words a, b, c\n",
    "        vec_a = model.__getitem__(analogy[0])\n",
    "        vec_b = model.__getitem__(analogy[1])\n",
    "        vec_c = model.__getitem__(analogy[2])\n",
    "\n",
    "        # estimated embedding for word d\n",
    "        est_vec_d = vec_c + (vec_b - vec_a)\n",
    "\n",
    "        # find top 3 words in vocab\n",
    "        top3_closest_words = get_neighbors(est_vec_d, words, 3)\n",
    "        closest_words_list[idx] = top3_closest_words\n",
    "    \n",
    "    return closest_words_list, answer, analogies "
   ]
  },
  {
   "cell_type": "markdown",
   "metadata": {},
   "source": [
    "## Analyze performance for the 4 lists"
   ]
  },
  {
   "cell_type": "code",
   "execution_count": 19,
   "metadata": {},
   "outputs": [],
   "source": [
    "def evaluate_accuracy(closest_found, correct):\n",
    "    total = len(correct)\n",
    "    correct_cnt_top1 = 0\n",
    "    correct_cnt_top3 = 0\n",
    "    \n",
    "    for i in range(len(correct)):\n",
    "        answer_word = correct[i]\n",
    "        top1 = closest_found[i][0]\n",
    "        top3 = closest_found[i]\n",
    "        if answer_word == top1:\n",
    "            correct_cnt_top1 += 1\n",
    "        if answer_word in top3:\n",
    "            correct_cnt_top3 += 1\n",
    "            \n",
    "    top1_acc = correct_cnt_top1/total\n",
    "    top3_acc = correct_cnt_top3/total\n",
    "    \n",
    "    return top1_acc, top3_acc"
   ]
  },
  {
   "cell_type": "code",
   "execution_count": 9,
   "metadata": {},
   "outputs": [
    {
     "data": {
      "application/vnd.jupyter.widget-view+json": {
       "model_id": "4bf18eddefea4fbd83748f24d7de4775",
       "version_major": 2,
       "version_minor": 0
      },
      "text/plain": [
       "HBox(children=(IntProgress(value=0, max=3000000), HTML(value='')))"
      ]
     },
     "metadata": {},
     "output_type": "display_data"
    },
    {
     "name": "stdout",
     "output_type": "stream",
     "text": [
      "\n"
     ]
    },
    {
     "data": {
      "application/vnd.jupyter.widget-view+json": {
       "model_id": "3aab50d1c5c042cbadabffa57161c3fd",
       "version_major": 2,
       "version_minor": 0
      },
      "text/plain": [
       "HBox(children=(IntProgress(value=0, max=3000000), HTML(value='')))"
      ]
     },
     "metadata": {},
     "output_type": "display_data"
    },
    {
     "name": "stdout",
     "output_type": "stream",
     "text": [
      "\n"
     ]
    },
    {
     "data": {
      "application/vnd.jupyter.widget-view+json": {
       "model_id": "ac9a4eb964ba44cdb858b03390cf719a",
       "version_major": 2,
       "version_minor": 0
      },
      "text/plain": [
       "HBox(children=(IntProgress(value=0, max=3000000), HTML(value='')))"
      ]
     },
     "metadata": {},
     "output_type": "display_data"
    },
    {
     "name": "stdout",
     "output_type": "stream",
     "text": [
      "\n"
     ]
    },
    {
     "data": {
      "application/vnd.jupyter.widget-view+json": {
       "model_id": "f11bc627b32e4c98a59dda5e06436020",
       "version_major": 2,
       "version_minor": 0
      },
      "text/plain": [
       "HBox(children=(IntProgress(value=0, max=3000000), HTML(value='')))"
      ]
     },
     "metadata": {},
     "output_type": "display_data"
    },
    {
     "name": "stdout",
     "output_type": "stream",
     "text": [
      "\n"
     ]
    },
    {
     "data": {
      "application/vnd.jupyter.widget-view+json": {
       "model_id": "07a9898a846546f1ad5ae4505bfd7246",
       "version_major": 2,
       "version_minor": 0
      },
      "text/plain": [
       "HBox(children=(IntProgress(value=0, max=3000000), HTML(value='')))"
      ]
     },
     "metadata": {},
     "output_type": "display_data"
    },
    {
     "name": "stdout",
     "output_type": "stream",
     "text": [
      "\n"
     ]
    },
    {
     "data": {
      "application/vnd.jupyter.widget-view+json": {
       "model_id": "20183a0845aa4ea2898b84286a6e0383",
       "version_major": 2,
       "version_minor": 0
      },
      "text/plain": [
       "HBox(children=(IntProgress(value=0, max=3000000), HTML(value='')))"
      ]
     },
     "metadata": {},
     "output_type": "display_data"
    },
    {
     "name": "stdout",
     "output_type": "stream",
     "text": [
      "\n"
     ]
    },
    {
     "data": {
      "application/vnd.jupyter.widget-view+json": {
       "model_id": "cd6a05734f124c7483d5ed6d9af1685a",
       "version_major": 2,
       "version_minor": 0
      },
      "text/plain": [
       "HBox(children=(IntProgress(value=0, max=3000000), HTML(value='')))"
      ]
     },
     "metadata": {},
     "output_type": "display_data"
    },
    {
     "name": "stdout",
     "output_type": "stream",
     "text": [
      "\n"
     ]
    },
    {
     "data": {
      "application/vnd.jupyter.widget-view+json": {
       "model_id": "a46a38da6a1c47479e2d4fa8c7304764",
       "version_major": 2,
       "version_minor": 0
      },
      "text/plain": [
       "HBox(children=(IntProgress(value=0, max=3000000), HTML(value='')))"
      ]
     },
     "metadata": {},
     "output_type": "display_data"
    },
    {
     "name": "stdout",
     "output_type": "stream",
     "text": [
      "\n"
     ]
    },
    {
     "data": {
      "application/vnd.jupyter.widget-view+json": {
       "model_id": "9e5a35eefa8247a6bcd03291d6de7e17",
       "version_major": 2,
       "version_minor": 0
      },
      "text/plain": [
       "HBox(children=(IntProgress(value=0, max=3000000), HTML(value='')))"
      ]
     },
     "metadata": {},
     "output_type": "display_data"
    },
    {
     "name": "stdout",
     "output_type": "stream",
     "text": [
      "\n"
     ]
    },
    {
     "data": {
      "application/vnd.jupyter.widget-view+json": {
       "model_id": "1c4fb0d978d5428294dfea6aaadcce57",
       "version_major": 2,
       "version_minor": 0
      },
      "text/plain": [
       "HBox(children=(IntProgress(value=0, max=3000000), HTML(value='')))"
      ]
     },
     "metadata": {},
     "output_type": "display_data"
    },
    {
     "name": "stdout",
     "output_type": "stream",
     "text": [
      "\n"
     ]
    },
    {
     "data": {
      "application/vnd.jupyter.widget-view+json": {
       "model_id": "1cf12773f4ce472b91bd40a539964125",
       "version_major": 2,
       "version_minor": 0
      },
      "text/plain": [
       "HBox(children=(IntProgress(value=0, max=3000000), HTML(value='')))"
      ]
     },
     "metadata": {},
     "output_type": "display_data"
    },
    {
     "name": "stdout",
     "output_type": "stream",
     "text": [
      "\n"
     ]
    },
    {
     "data": {
      "application/vnd.jupyter.widget-view+json": {
       "model_id": "a79e0f2f8aff43aeb9e1e33ab34b603c",
       "version_major": 2,
       "version_minor": 0
      },
      "text/plain": [
       "HBox(children=(IntProgress(value=0, max=3000000), HTML(value='')))"
      ]
     },
     "metadata": {},
     "output_type": "display_data"
    },
    {
     "name": "stdout",
     "output_type": "stream",
     "text": [
      "\n"
     ]
    },
    {
     "data": {
      "application/vnd.jupyter.widget-view+json": {
       "model_id": "94883e111b70406983ff156f0df363e1",
       "version_major": 2,
       "version_minor": 0
      },
      "text/plain": [
       "HBox(children=(IntProgress(value=0, max=3000000), HTML(value='')))"
      ]
     },
     "metadata": {},
     "output_type": "display_data"
    },
    {
     "name": "stdout",
     "output_type": "stream",
     "text": [
      "\n"
     ]
    },
    {
     "data": {
      "application/vnd.jupyter.widget-view+json": {
       "model_id": "025a6bcf31ad4eb0b95152afe566eda5",
       "version_major": 2,
       "version_minor": 0
      },
      "text/plain": [
       "HBox(children=(IntProgress(value=0, max=3000000), HTML(value='')))"
      ]
     },
     "metadata": {},
     "output_type": "display_data"
    },
    {
     "name": "stdout",
     "output_type": "stream",
     "text": [
      "\n"
     ]
    },
    {
     "data": {
      "application/vnd.jupyter.widget-view+json": {
       "model_id": "1ab68a8774f94c48bde06ddda5813dd5",
       "version_major": 2,
       "version_minor": 0
      },
      "text/plain": [
       "HBox(children=(IntProgress(value=0, max=3000000), HTML(value='')))"
      ]
     },
     "metadata": {},
     "output_type": "display_data"
    },
    {
     "name": "stdout",
     "output_type": "stream",
     "text": [
      "\n"
     ]
    },
    {
     "data": {
      "application/vnd.jupyter.widget-view+json": {
       "model_id": "d640a3508ee042e08d053c6deecbd433",
       "version_major": 2,
       "version_minor": 0
      },
      "text/plain": [
       "HBox(children=(IntProgress(value=0, max=3000000), HTML(value='')))"
      ]
     },
     "metadata": {},
     "output_type": "display_data"
    },
    {
     "name": "stdout",
     "output_type": "stream",
     "text": [
      "\n"
     ]
    },
    {
     "data": {
      "application/vnd.jupyter.widget-view+json": {
       "model_id": "4e45dedde0624795ade1d4810df079f0",
       "version_major": 2,
       "version_minor": 0
      },
      "text/plain": [
       "HBox(children=(IntProgress(value=0, max=3000000), HTML(value='')))"
      ]
     },
     "metadata": {},
     "output_type": "display_data"
    },
    {
     "name": "stdout",
     "output_type": "stream",
     "text": [
      "\n"
     ]
    },
    {
     "data": {
      "application/vnd.jupyter.widget-view+json": {
       "model_id": "d9192d0973314d95a1bbe38fe097c9ea",
       "version_major": 2,
       "version_minor": 0
      },
      "text/plain": [
       "HBox(children=(IntProgress(value=0, max=3000000), HTML(value='')))"
      ]
     },
     "metadata": {},
     "output_type": "display_data"
    },
    {
     "name": "stdout",
     "output_type": "stream",
     "text": [
      "\n"
     ]
    },
    {
     "data": {
      "application/vnd.jupyter.widget-view+json": {
       "model_id": "52d808c93c484536b2a112410c39fa0d",
       "version_major": 2,
       "version_minor": 0
      },
      "text/plain": [
       "HBox(children=(IntProgress(value=0, max=3000000), HTML(value='')))"
      ]
     },
     "metadata": {},
     "output_type": "display_data"
    },
    {
     "name": "stdout",
     "output_type": "stream",
     "text": [
      "\n"
     ]
    },
    {
     "data": {
      "application/vnd.jupyter.widget-view+json": {
       "model_id": "81295f260acc4660b94d9e1686b8c02d",
       "version_major": 2,
       "version_minor": 0
      },
      "text/plain": [
       "HBox(children=(IntProgress(value=0, max=3000000), HTML(value='')))"
      ]
     },
     "metadata": {},
     "output_type": "display_data"
    },
    {
     "name": "stdout",
     "output_type": "stream",
     "text": [
      "\n"
     ]
    }
   ],
   "source": [
    "closest_found_list1, correct_list1, analogies_list1 = find_closest3_for_analogy_list(\"word_lists/list1.txt\")"
   ]
  },
  {
   "cell_type": "code",
   "execution_count": 15,
   "metadata": {},
   "outputs": [],
   "source": [
    "list1_results = np.array([closest_found_list1, correct_list1, analogies_list1], dtype=object)\n",
    "with open('list1_similar.data', 'wb') as data_save:\n",
    "    # store the data as binary data stream\n",
    "    pickle.dump(list1_results, data_save)"
   ]
  },
  {
   "cell_type": "code",
   "execution_count": 16,
   "metadata": {},
   "outputs": [],
   "source": [
    "# Instead of taking a long time to go over the vocab, we load the pickle file we saved\n",
    "with open('list1_similar.data', 'rb') as filehandle:\n",
    "    # read the data as binary data stream\n",
    "    closest_found_1, correct_1, analogies_1 = np.array(pickle.load(filehandle))"
   ]
  },
  {
   "cell_type": "code",
   "execution_count": 23,
   "metadata": {},
   "outputs": [
    {
     "name": "stdout",
     "output_type": "stream",
     "text": [
      "Top1 accuracy rate for word list 1: 40.0 %\n",
      "Top3 accuracy rate for word list 1: 85.0 %\n"
     ]
    }
   ],
   "source": [
    "list1_top1_acc, list1_top3_acc = evaluate_accuracy(closest_found_1, correct_1)\n",
    "print(\"Top1 accuracy rate for word list 1:\", list1_top1_acc * 100, \"%\")\n",
    "print(\"Top3 accuracy rate for word list 1:\", list1_top3_acc * 100, \"%\")"
   ]
  },
  {
   "cell_type": "code",
   "execution_count": 10,
   "metadata": {
    "collapsed": true
   },
   "outputs": [
    {
     "data": {
      "application/vnd.jupyter.widget-view+json": {
       "model_id": "f79939ea2aed4c659f31983b79d3584b",
       "version_major": 2,
       "version_minor": 0
      },
      "text/plain": [
       "HBox(children=(IntProgress(value=0, max=3000000), HTML(value='')))"
      ]
     },
     "metadata": {},
     "output_type": "display_data"
    },
    {
     "name": "stdout",
     "output_type": "stream",
     "text": [
      "\n"
     ]
    },
    {
     "ename": "KeyboardInterrupt",
     "evalue": "",
     "output_type": "error",
     "traceback": [
      "\u001b[0;31m---------------------------------------------------------------------------\u001b[0m",
      "\u001b[0;31mKeyboardInterrupt\u001b[0m                         Traceback (most recent call last)",
      "\u001b[0;32m<ipython-input-10-aad85d849660>\u001b[0m in \u001b[0;36m<module>\u001b[0;34m()\u001b[0m\n\u001b[0;32m----> 1\u001b[0;31m \u001b[0mclosest_found_list2\u001b[0m\u001b[0;34m,\u001b[0m \u001b[0mcorrect_list2\u001b[0m\u001b[0;34m,\u001b[0m \u001b[0manalogies_list2\u001b[0m \u001b[0;34m=\u001b[0m \u001b[0mfind_closest3_for_analogy_list\u001b[0m\u001b[0;34m(\u001b[0m\u001b[0;34m\"word_lists/list2.txt\"\u001b[0m\u001b[0;34m)\u001b[0m\u001b[0;34m\u001b[0m\u001b[0m\n\u001b[0m",
      "\u001b[0;32m<ipython-input-7-da51d7ff9018>\u001b[0m in \u001b[0;36mfind_closest3_for_analogy_list\u001b[0;34m(filename)\u001b[0m\n\u001b[1;32m     18\u001b[0m \u001b[0;34m\u001b[0m\u001b[0m\n\u001b[1;32m     19\u001b[0m         \u001b[0;31m# find top 3 words in vocab\u001b[0m\u001b[0;34m\u001b[0m\u001b[0;34m\u001b[0m\u001b[0m\n\u001b[0;32m---> 20\u001b[0;31m         \u001b[0mtop3_closest_words\u001b[0m \u001b[0;34m=\u001b[0m \u001b[0mget_neighbors\u001b[0m\u001b[0;34m(\u001b[0m\u001b[0mest_vec_d\u001b[0m\u001b[0;34m,\u001b[0m \u001b[0mwords\u001b[0m\u001b[0;34m,\u001b[0m \u001b[0;36m3\u001b[0m\u001b[0;34m)\u001b[0m\u001b[0;34m\u001b[0m\u001b[0m\n\u001b[0m\u001b[1;32m     21\u001b[0m         \u001b[0mclosest_words_list\u001b[0m\u001b[0;34m[\u001b[0m\u001b[0midx\u001b[0m\u001b[0;34m]\u001b[0m \u001b[0;34m=\u001b[0m \u001b[0mtop3_closest_words\u001b[0m\u001b[0;34m\u001b[0m\u001b[0m\n\u001b[1;32m     22\u001b[0m \u001b[0;34m\u001b[0m\u001b[0m\n",
      "\u001b[0;32m<ipython-input-6-c552a541abbc>\u001b[0m in \u001b[0;36mget_neighbors\u001b[0;34m(target_word_vec, vocab_words, k)\u001b[0m\n\u001b[1;32m     18\u001b[0m         \u001b[0mitem_word_vec\u001b[0m \u001b[0;34m=\u001b[0m  \u001b[0mmodel\u001b[0m\u001b[0;34m.\u001b[0m\u001b[0m__getitem__\u001b[0m\u001b[0;34m(\u001b[0m\u001b[0mitem\u001b[0m\u001b[0;34m)\u001b[0m\u001b[0;34m\u001b[0m\u001b[0m\n\u001b[1;32m     19\u001b[0m         \u001b[0mitem_dist\u001b[0m \u001b[0;34m=\u001b[0m \u001b[0mget_cosine_dist\u001b[0m\u001b[0;34m(\u001b[0m\u001b[0mitem_word_vec\u001b[0m\u001b[0;34m,\u001b[0m \u001b[0mtarget_word_vec\u001b[0m\u001b[0;34m)\u001b[0m\u001b[0;34m\u001b[0m\u001b[0m\n\u001b[0;32m---> 20\u001b[0;31m         \u001b[0mdist_item\u001b[0m\u001b[0;34m[\u001b[0m\u001b[0mi\u001b[0m\u001b[0;34m]\u001b[0m \u001b[0;34m=\u001b[0m \u001b[0;34m[\u001b[0m\u001b[0mitem_dist\u001b[0m\u001b[0;34m,\u001b[0m\u001b[0mitem\u001b[0m\u001b[0;34m]\u001b[0m\u001b[0;34m\u001b[0m\u001b[0m\n\u001b[0m\u001b[1;32m     21\u001b[0m \u001b[0;34m\u001b[0m\u001b[0m\n\u001b[1;32m     22\u001b[0m     \u001b[0;31m# now sort dist_item so words with the most positive cosine distance will be at the front of the list\u001b[0m\u001b[0;34m\u001b[0m\u001b[0;34m\u001b[0m\u001b[0m\n",
      "\u001b[0;31mKeyboardInterrupt\u001b[0m: "
     ]
    }
   ],
   "source": [
    "closest_found_list2, correct_list2, analogies_list2 = find_closest3_for_analogy_list(\"word_lists/list2.txt\")"
   ]
  },
  {
   "cell_type": "code",
   "execution_count": null,
   "metadata": {},
   "outputs": [],
   "source": [
    "closest_found_list3, correct_list3, analogies_list4 = find_closest3_for_analogy_list(\"word_lists/list3.txt\")"
   ]
  },
  {
   "cell_type": "code",
   "execution_count": null,
   "metadata": {},
   "outputs": [],
   "source": [
    "closest_found_list4, correct_list4, analogies_list4 = find_closest3_for_analogy_list(\"word_lists/list4.txt\")"
   ]
  }
 ],
 "metadata": {
  "kernelspec": {
   "display_name": "Python 3",
   "language": "python",
   "name": "python3"
  }
 },
 "nbformat": 4,
 "nbformat_minor": 2
}
