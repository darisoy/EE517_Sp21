{
 "cells": [
  {
   "cell_type": "code",
   "execution_count": 49,
   "metadata": {},
   "outputs": [],
   "source": [
    "def warn(*args, **kwargs):\n",
    "    pass\n",
    "import warnings\n",
    "warnings.warn = warn\n",
    "\n",
    "import gensim\n",
    "import numpy as np\n",
    "from tqdm import tqdm_notebook as tqdm\n",
    "import pickle"
   ]
  },
  {
   "cell_type": "code",
   "execution_count": 2,
   "metadata": {},
   "outputs": [],
   "source": [
    "# Pretrained word2vec\n",
    "# Google’s pre-trained Word2Vec (1.5GB), word vectors for a vocabulary of 3 million words \n",
    "# and phrases that they trained on roughly 100 billion words from a Google News dataset\n",
    "# https://code.google.com/archive/p/word2vec/\n",
    "model = gensim.models.KeyedVectors.load_word2vec_format('./word2vec_pretrained/GoogleNews-vectors-negative300.bin', binary=True) "
   ]
  },
  {
   "cell_type": "code",
   "execution_count": 117,
   "metadata": {},
   "outputs": [
    {
     "output_type": "stream",
     "name": "stdout",
     "text": [
      "Vocab size:  3000000\n"
     ]
    }
   ],
   "source": [
    "vocab = [w for w in model.key_to_index]\n",
    "print(\"Vocab size: \", len(words))"
   ]
  },
  {
   "cell_type": "code",
   "execution_count": 118,
   "metadata": {},
   "outputs": [],
   "source": [
    "def get_k_nearest_words(target_word_vec, k):\n",
    "    nearest_indexes = model.distances(target_word_vec, other_words=vocab).argsort()[:k]\n",
    "    return [model.index_to_key[i] for i in nearest_indexes]"
   ]
  },
  {
   "cell_type": "code",
   "execution_count": 119,
   "metadata": {},
   "outputs": [],
   "source": [
    "def get_nearest_ten_for_analogy(filename):\n",
    "    word_list_file = open(filename).readlines()\n",
    "    analogies = [line.strip().split() for line in word_list_file if line.strip() != '']\n",
    "    \n",
    "    closest_words_list = [None for _ in range(len(analogies))]\n",
    "    answer = [analogy[3] for analogy in analogies]\n",
    "    \n",
    "    for i, analogy in enumerate(tqdm(analogies)):\n",
    "        vec_a = model.__getitem__(analogy[0])\n",
    "        vec_b = model.__getitem__(analogy[1])\n",
    "        vec_c = model.__getitem__(analogy[2])\n",
    "        vec_d = vec_c + (vec_b - vec_a)\n",
    "        closest_words_list[i] = get_k_nearest_words(vec_d, 10)\n",
    "    \n",
    "    return closest_words_list, answer, analogies "
   ]
  },
  {
   "cell_type": "code",
   "execution_count": 120,
   "metadata": {},
   "outputs": [],
   "source": [
    "def get_k_most_similar(filename, k):\n",
    "    word_list_file = open(filename).readlines()\n",
    "    analogies = [line.strip().split() for line in word_list_file if line.strip() != \"\"]\n",
    "    \n",
    "    closest_words_list = [None for i in range(len(analogies))]\n",
    "    answer = [analogy[3] for analogy in analogies]\n",
    "    \n",
    "    for i, analogy in enumerate(analogies):\n",
    "        top3_similar_words = model.most_similar(positive=[analogy[1], analogy[2]], \n",
    "                                                negative=[analogy[0]], topn=k)\n",
    "        closest_words_list[i] = [w for (w, _) in top3_similar_words]\n",
    "    \n",
    "    return closest_words_list, answer "
   ]
  },
  {
   "cell_type": "markdown",
   "metadata": {},
   "source": [
    "## Analyze performance for the 4 lists"
   ]
  },
  {
   "source": [
    "for i in range(5):\n",
    "    input_list = ('word_lists/list%d.txt' % (i+1))\n",
    "    closest_found_list, correct_list, analogies_list = get_nearest_ten_for_analogy(input_list)\n",
    "    list_results = np.array([closest_found_list, correct_list, analogies_list], dtype=object)\n",
    "    with open(('list%d_nearest10.data' % (i+1)), 'wb') as data_save:\n",
    "        pickle.dump(list_results, data_save) # store the data as binary data stream\n",
    "    print('Top similar words for file ' + input_list + ' saved!')"
   ],
   "cell_type": "code",
   "metadata": {},
   "execution_count": null,
   "outputs": []
  },
  {
   "cell_type": "code",
   "execution_count": 111,
   "metadata": {},
   "outputs": [],
   "source": [
    "def evaluate_accuracy(closest_found, correct, analogies, repeat_orig = True):\n",
    "    closest_found_new = closest_found\n",
    "    if not repeat_orig:\n",
    "        for i, closest in enumerate(closest_found):\n",
    "            closest_found_new[i] = np.array([el for el in closest if el not in analogies[i][:3]]) \n",
    "        \n",
    "    top1 = np.array([c[0] for c in closest_found]) == np.array(correct)\n",
    "    top3 = top1\n",
    "    for i in range(1, 3):\n",
    "        top3 = np.logical_or(top3, np.array([c[i] for c in closest_found]) == np.array(correct))\n",
    "        \n",
    "    return np.sum(top1)/len(correct), np.sum(top3)/len(correct)"
   ]
  },
  {
   "cell_type": "code",
   "execution_count": 125,
   "metadata": {},
   "outputs": [
    {
     "output_type": "stream",
     "name": "stdout",
     "text": [
      "Testing file:  word_lists/list1.txt\n",
      "    Top 1 nearest accuracy: \t\t\t40.00%\n",
      "    Top 3 nearest accuracy: \t\t\t85.00%\n",
      "    Top 1 nearest accuracy (w/o a,b,c): \t85.00%\n",
      "    Top 3 nearest accuracy (w/o a,b,c): \t90.00%\n",
      "    Top 1 most similar accuracy: \t\t85.00%\n",
      "    Top 3 most similar accuracy: \t\t90.00%\n",
      "\n",
      "Testing file:  word_lists/list2.txt\n",
      "    Top 1 nearest accuracy: \t\t\t35.00%\n",
      "    Top 3 nearest accuracy: \t\t\t90.00%\n",
      "    Top 1 nearest accuracy (w/o a,b,c): \t85.00%\n",
      "    Top 3 nearest accuracy (w/o a,b,c): \t90.00%\n",
      "    Top 1 most similar accuracy: \t\t85.00%\n",
      "    Top 3 most similar accuracy: \t\t90.00%\n",
      "\n",
      "Testing file:  word_lists/list3.txt\n",
      "    Top 1 nearest accuracy: \t\t\t0.00%\n",
      "    Top 3 nearest accuracy: \t\t\t40.00%\n",
      "    Top 1 nearest accuracy (w/o a,b,c): \t30.00%\n",
      "    Top 3 nearest accuracy (w/o a,b,c): \t50.00%\n",
      "    Top 1 most similar accuracy: \t\t35.00%\n",
      "    Top 3 most similar accuracy: \t\t45.00%\n",
      "\n",
      "Testing file:  word_lists/list4.txt\n",
      "    Top 1 nearest accuracy: \t\t\t0.00%\n",
      "    Top 3 nearest accuracy: \t\t\t15.00%\n",
      "    Top 1 nearest accuracy (w/o a,b,c): \t15.00%\n",
      "    Top 3 nearest accuracy (w/o a,b,c): \t20.00%\n",
      "    Top 1 most similar accuracy: \t\t20.00%\n",
      "    Top 3 most similar accuracy: \t\t25.00%\n",
      "\n",
      "Testing file:  word_lists/list5.txt\n",
      "    Top 1 nearest accuracy: \t\t\t20.00%\n",
      "    Top 3 nearest accuracy: \t\t\t65.00%\n",
      "    Top 1 nearest accuracy (w/o a,b,c): \t52.50%\n",
      "    Top 3 nearest accuracy (w/o a,b,c): \t70.00%\n",
      "    Top 1 most similar accuracy: \t\t60.00%\n",
      "    Top 3 most similar accuracy: \t\t75.00%\n",
      "\n"
     ]
    }
   ],
   "source": [
    "# Instead of taking a long time to go over the vocab, we load the pickle file we saved\n",
    "for i in range(5):\n",
    "    list_filename = ('word_lists/list%d.txt' % (i+1))\n",
    "    print('Testing file: ', list_filename)\n",
    "    with open(('list%d_nearest10.data' % (i+1)), 'rb') as filehandle:\n",
    "        closest_found, correct, analogies = np.array(pickle.load(filehandle))\n",
    "\n",
    "        top1_acc, top3_acc = evaluate_accuracy(closest_found, correct, analogies)\n",
    "        print('    Top 1 nearest accuracy: \\t\\t\\t%.2f%%' % (top1_acc * 100))\n",
    "        print('    Top 3 nearest accuracy: \\t\\t\\t%.2f%%' % (top3_acc * 100))\n",
    "\n",
    "        top1_acc, top3_acc = evaluate_accuracy(closest_found, correct, analogies, repeat_orig = False)\n",
    "        print('    Top 1 nearest accuracy (w/o a,b,c): \\t%.2f%%' % (top1_acc * 100))\n",
    "        print('    Top 3 nearest accuracy (w/o a,b,c): \\t%.2f%%' % (top3_acc * 100))\n",
    "\n",
    "        closest_found, correct = get_k_most_similar(list_filename, 3)\n",
    "        top1_acc, top3_acc = evaluate_accuracy(closest_found, correct, analogies)\n",
    "        print('    Top 1 most similar accuracy: \\t\\t%.2f%%' % (top1_acc * 100))\n",
    "        print('    Top 3 most similar accuracy: \\t\\t%.2f%%' % (top3_acc * 100))\n",
    "        print()"
   ]
  }
 ],
 "metadata": {
  "kernelspec": {
   "name": "python383jvsc74a57bd05b137523260739573695466c60f5bbef4a5b6a13fbab04d213a4e80cd7778902",
   "display_name": "Python 3.8.3 64-bit ('base': conda)"
  },
  "language_info": {
   "codemirror_mode": {
    "name": "ipython",
    "version": 3
   },
   "file_extension": ".py",
   "mimetype": "text/x-python",
   "name": "python",
   "nbconvert_exporter": "python",
   "pygments_lexer": "ipython3",
   "version": "3.8.3"
  }
 },
 "nbformat": 4,
 "nbformat_minor": 2
}