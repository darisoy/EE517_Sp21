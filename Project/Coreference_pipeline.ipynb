{
 "cells": [
  {
   "cell_type": "markdown",
   "metadata": {},
   "source": [
    "Setting up Huggingface Neuralcoref and small example"
   ]
  },
  {
   "cell_type": "code",
   "execution_count": 1,
   "metadata": {},
   "outputs": [],
   "source": [
    "# !pip install spacy==2.2.4\n",
    "# compile neuralcoref from scratch according to https://github.com/huggingface/neuralcoref"
   ]
  },
  {
   "cell_type": "code",
   "execution_count": 2,
   "metadata": {},
   "outputs": [
    {
     "name": "stdout",
     "output_type": "stream",
     "text": [
      "2.2.4\n"
     ]
    }
   ],
   "source": [
    "import spacy\n",
    "print(spacy.__version__) "
   ]
  },
  {
   "cell_type": "code",
   "execution_count": 3,
   "metadata": {},
   "outputs": [
    {
     "data": {
      "text/plain": [
       "<spacy.lang.en.English at 0x7fca1f03cef0>"
      ]
     },
     "execution_count": 3,
     "metadata": {},
     "output_type": "execute_result"
    }
   ],
   "source": [
    "import en_core_web_lg\n",
    "# Add neural coref to SpaCy's pipe\n",
    "import neuralcoref\n",
    "\n",
    "nlp = en_core_web_lg.load()\n",
    "neuralcoref.add_to_pipe(nlp)"
   ]
  },
  {
   "cell_type": "code",
   "execution_count": 18,
   "metadata": {},
   "outputs": [],
   "source": [
    "\n",
    "doc = nlp(\"Eva and Martha didn't want their friend Jenny to feel lonely so they invited her to the party.\")"
   ]
  },
  {
   "cell_type": "code",
   "execution_count": 19,
   "metadata": {},
   "outputs": [
    {
     "name": "stdout",
     "output_type": "stream",
     "text": [
      "[Eva and Martha: [Eva and Martha, their, they], Jenny: [Jenny, her]]\n"
     ]
    }
   ],
   "source": [
    "#doc._.has_coref\n",
    "print(doc._.coref_clusters)"
   ]
  },
  {
   "cell_type": "markdown",
   "metadata": {},
   "source": [
    "Setting up AllenNLP coreference resolution"
   ]
  },
  {
   "cell_type": "code",
   "execution_count": 6,
   "metadata": {},
   "outputs": [],
   "source": [
    "#!pip install allennlp\n",
    "#!pip install allennlp-models"
   ]
  },
  {
   "cell_type": "code",
   "execution_count": 7,
   "metadata": {},
   "outputs": [],
   "source": [
    "from allennlp.predictors.predictor import Predictor"
   ]
  },
  {
   "cell_type": "code",
   "execution_count": 12,
   "metadata": {},
   "outputs": [],
   "source": [
    "model_url = 'https://storage.googleapis.com/allennlp-public-models/coref-spanbert-large-2020.02.27.tar.gz'\n",
    "predictor = Predictor.from_path(model_url)  # load the model"
   ]
  },
  {
   "cell_type": "code",
   "execution_count": 13,
   "metadata": {},
   "outputs": [],
   "source": [
    "text = \"Eva and Martha didn't want their friend Jenny to feel lonely so they invited her to the party.\"\n",
    "prediction = predictor.predict(document=text)  # get the prediction"
   ]
  },
  {
   "cell_type": "code",
   "execution_count": 14,
   "metadata": {},
   "outputs": [],
   "source": [
    "def get_clusters_allen_nlp(prediction):\n",
    "    clusters = []\n",
    "    for cluster in prediction['clusters']:\n",
    "        print(\"cluster\", cluster)\n",
    "        first_mention = \"\"\n",
    "        mention_ref = {}\n",
    "        for token in cluster:\n",
    "            token_start = token[0]\n",
    "            token_end = token[1]\n",
    "            mention = \" \".join(prediction['document'][token_start:token_end + 1])\n",
    "            if first_mention == \"\":\n",
    "                first_mention = mention\n",
    "                mention_ref[first_mention] = [first_mention]\n",
    "            else:\n",
    "                mention_ref[first_mention] += [mention]\n",
    "        print(mention_ref)\n",
    "        clusters.append(mention_ref)\n",
    "    return clusters\n"
   ]
  },
  {
   "cell_type": "code",
   "execution_count": 15,
   "metadata": {},
   "outputs": [
    {
     "name": "stdout",
     "output_type": "stream",
     "text": [
      "cluster [[0, 2], [6, 6], [13, 13]]\n",
      "{'Eva and Martha': ['Eva and Martha', 'their', 'they']}\n",
      "cluster [[6, 8], [15, 15]]\n",
      "{'their friend Jenny': ['their friend Jenny', 'her']}\n",
      "[{'Eva and Martha': ['Eva and Martha', 'their', 'they']}, {'their friend Jenny': ['their friend Jenny', 'her']}]\n"
     ]
    }
   ],
   "source": [
    "clusters_allennlp = get_clusters_allen_nlp(prediction)\n",
    "print(clusters_allennlp)"
   ]
  },
  {
   "cell_type": "code",
   "execution_count": null,
   "metadata": {},
   "outputs": [],
   "source": []
  }
 ],
 "metadata": {
  "kernelspec": {
   "display_name": "Python 3",
   "language": "python",
   "name": "python3"
  },
  "language_info": {
   "codemirror_mode": {
    "name": "ipython",
    "version": 3
   },
   "file_extension": ".py",
   "mimetype": "text/x-python",
   "name": "python",
   "nbconvert_exporter": "python",
   "pygments_lexer": "ipython3",
   "version": "3.7.0"
  }
 },
 "nbformat": 4,
 "nbformat_minor": 2
}
