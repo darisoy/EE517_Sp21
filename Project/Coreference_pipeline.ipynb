{
 "cells": [
  {
   "cell_type": "markdown",
   "metadata": {},
   "source": [
    "### Setting up Huggingface Neuralcoref and small example"
   ]
  },
  {
   "cell_type": "code",
   "execution_count": 1,
   "metadata": {},
   "outputs": [],
   "source": [
    "# !pip install spacy==2.2.4\n",
    "# compile neuralcoref from scratch according to https://github.com/huggingface/neuralcoref"
   ]
  },
  {
   "cell_type": "code",
   "execution_count": 2,
   "metadata": {},
   "outputs": [
    {
     "name": "stdout",
     "output_type": "stream",
     "text": [
      "2.2.4\n"
     ]
    }
   ],
   "source": [
    "import spacy\n",
    "print(spacy.__version__) "
   ]
  },
  {
   "cell_type": "code",
   "execution_count": 38,
   "metadata": {},
   "outputs": [
    {
     "data": {
      "text/plain": [
       "<spacy.lang.en.English at 0x7fc82c047c88>"
      ]
     },
     "execution_count": 38,
     "metadata": {},
     "output_type": "execute_result"
    }
   ],
   "source": [
    "import en_core_web_lg\n",
    "# Add neural coref to SpaCy's pipe\n",
    "import neuralcoref\n",
    "\n",
    "nlp = en_core_web_lg.load()\n",
    "neuralcoref.add_to_pipe(nlp)"
   ]
  },
  {
   "cell_type": "code",
   "execution_count": 39,
   "metadata": {},
   "outputs": [],
   "source": [
    "\n",
    "doc = nlp(\"Eva and Martha didn't want their friend Jenny to feel lonely so they invited her to the party. Tom is happy.\")"
   ]
  },
  {
   "cell_type": "code",
   "execution_count": 40,
   "metadata": {},
   "outputs": [
    {
     "name": "stdout",
     "output_type": "stream",
     "text": [
      "[Eva and Martha: [Eva and Martha, their, they], Jenny: [Jenny, her]]\n"
     ]
    }
   ],
   "source": [
    "#doc._.has_coref\n",
    "print(doc._.coref_clusters)"
   ]
  },
  {
   "cell_type": "code",
   "execution_count": 31,
   "metadata": {},
   "outputs": [
    {
     "name": "stdout",
     "output_type": "stream",
     "text": [
      "[[[0, 2], [6, 6], [13, 13]], [[8, 8], [15, 15]]]\n",
      "[Eva and Martha: [Eva and Martha, their, they], Jenny: [Jenny, her]]\n"
     ]
    }
   ],
   "source": [
    "all_clusters = []\n",
    "for cluster in doc._.coref_clusters:\n",
    "    cluster_start_end = []\n",
    "    for mention in cluster.mentions:\n",
    "        cluster_start_end.append([mention.start, mention.end -1])\n",
    "    all_clusters.append(cluster_start_end)\n",
    "print(all_clusters)\n",
    "print(doc._.coref_clusters)"
   ]
  },
  {
   "cell_type": "markdown",
   "metadata": {},
   "source": [
    "### Setting up AllenNLP coreference resolution and small example"
   ]
  },
  {
   "cell_type": "code",
   "execution_count": 6,
   "metadata": {},
   "outputs": [],
   "source": [
    "#!pip install allennlp\n",
    "#!pip install allennlp-models"
   ]
  },
  {
   "cell_type": "code",
   "execution_count": 7,
   "metadata": {},
   "outputs": [],
   "source": [
    "from allennlp.predictors.predictor import Predictor"
   ]
  },
  {
   "cell_type": "code",
   "execution_count": 12,
   "metadata": {},
   "outputs": [],
   "source": [
    "model_url = 'https://storage.googleapis.com/allennlp-public-models/coref-spanbert-large-2020.02.27.tar.gz'\n",
    "predictor = Predictor.from_path(model_url)  # load the model"
   ]
  },
  {
   "cell_type": "code",
   "execution_count": 45,
   "metadata": {},
   "outputs": [],
   "source": [
    "text = \"Eva and Martha didn't want their friend Jenny to feel lonely so they invited her to the party. Tom is happy.He says.\"\n",
    "prediction = predictor.predict(document=text)  # get the prediction"
   ]
  },
  {
   "cell_type": "code",
   "execution_count": 46,
   "metadata": {},
   "outputs": [],
   "source": [
    "def get_clusters_allen_nlp(prediction):\n",
    "    clusters = []\n",
    "    for cluster in prediction['clusters']:\n",
    "        print(\"cluster\", cluster)\n",
    "        first_mention = \"\"\n",
    "        mention_ref = {}\n",
    "        for token in cluster:\n",
    "            token_start = token[0]\n",
    "            token_end = token[1]\n",
    "            mention = \" \".join(prediction['document'][token_start:token_end + 1])\n",
    "            if first_mention == \"\":\n",
    "                first_mention = mention\n",
    "                mention_ref[first_mention] = [first_mention]\n",
    "            else:\n",
    "                mention_ref[first_mention] += [mention]\n",
    "        print(mention_ref)\n",
    "        clusters.append(mention_ref)\n",
    "    return clusters\n"
   ]
  },
  {
   "cell_type": "code",
   "execution_count": 47,
   "metadata": {},
   "outputs": [
    {
     "name": "stdout",
     "output_type": "stream",
     "text": [
      "cluster [[0, 2], [6, 6], [13, 13]]\n",
      "{'Eva and Martha': ['Eva and Martha', 'their', 'they']}\n",
      "cluster [[6, 8], [15, 15]]\n",
      "{'their friend Jenny': ['their friend Jenny', 'her']}\n",
      "cluster [[20, 20], [24, 24]]\n",
      "{'Tom': ['Tom', 'He']}\n",
      "[{'Eva and Martha': ['Eva and Martha', 'their', 'they']}, {'their friend Jenny': ['their friend Jenny', 'her']}, {'Tom': ['Tom', 'He']}]\n"
     ]
    }
   ],
   "source": [
    "clusters_allennlp = get_clusters_allen_nlp(prediction)\n",
    "print(clusters_allennlp)"
   ]
  },
  {
   "cell_type": "markdown",
   "metadata": {},
   "source": [
    "### NER and small example"
   ]
  },
  {
   "cell_type": "code",
   "execution_count": 53,
   "metadata": {},
   "outputs": [],
   "source": [
    "doc = nlp(\"Eva and Martha didn't want their friend Jenny to feel lonely so they invited her to the party. Tom is happy.\")"
   ]
  },
  {
   "cell_type": "code",
   "execution_count": 54,
   "metadata": {},
   "outputs": [],
   "source": [
    "person_found = [ent.text for ent in doc.ents if ent.label_ == \"PERSON\"]"
   ]
  },
  {
   "cell_type": "code",
   "execution_count": 55,
   "metadata": {},
   "outputs": [
    {
     "name": "stdout",
     "output_type": "stream",
     "text": [
      "['Eva', 'Martha', 'Jenny', 'Tom']\n"
     ]
    }
   ],
   "source": [
    "print(person_found)"
   ]
  },
  {
   "cell_type": "markdown",
   "metadata": {},
   "source": [
    "### Dealing with textbook data"
   ]
  },
  {
   "cell_type": "code",
   "execution_count": 33,
   "metadata": {},
   "outputs": [],
   "source": [
    "import math\n",
    "import sys, os, re\n",
    "from IPython import embed\n",
    "from pprint import pprint\n",
    "import string\n",
    "from random import shuffle\n",
    "from collections import defaultdict, Counter\n",
    "\n",
    "from termcolor import colored\n",
    "\n",
    "import matplotlib.pyplot as plt\n",
    "from util import *\n",
    "import numpy as np\n",
    "import pandas as pd\n",
    "from sklearn.feature_selection import mutual_info_classif\n",
    "from sklearn.feature_extraction.text import CountVectorizer\n",
    "from sklearn.metrics import confusion_matrix, plot_confusion_matrix\n",
    "import spacy\n",
    "import en_core_web_sm\n",
    "import en_core_web_lg\n",
    "import inflect\n",
    "from subject_object_extraction import *\n",
    "import gender_guesser.detector as gender\n",
    "\n",
    "import textacy\n",
    "from textacy.extract import subject_verb_object_triples as extractSVOs\n",
    "\n",
    "import nltk\n",
    "from nltk.stem import WordNetLemmatizer\n",
    "from nltk import pos_tag\n",
    "\n",
    "from tqdm import tqdm_notebook as tqdm\n",
    "import ast\n",
    "lemma = nltk.wordnet.WordNetLemmatizer()\n",
    "  \n",
    "d = gender.Detector()"
   ]
  },
  {
   "cell_type": "code",
   "execution_count": 64,
   "metadata": {},
   "outputs": [
    {
     "data": {
      "text/plain": [
       "33575"
      ]
     },
     "execution_count": 64,
     "metadata": {},
     "output_type": "execute_result"
    }
   ],
   "source": [
    "d_all1 = pd.read_csv('textbook_data/new_chapter_train_set_gender.csv', delimiter= \",\", low_memory=False, index_col=0)\n",
    "d_all2 = pd.read_csv('textbook_data/new_chapter_test_set_gender.csv', delimiter= \",\", low_memory=False, index_col=0)\n",
    "d_all1 = d_all1.drop(['bool'], axis=1)\n",
    "assert all(d_all1.columns == d_all2.columns)\n",
    "d_all = pd.concat([d_all1, d_all2], axis = 0)\n",
    "d_all.fillna('[]',inplace = True)\n",
    "len(d_all)"
   ]
  },
  {
   "cell_type": "code",
   "execution_count": 66,
   "metadata": {},
   "outputs": [
    {
     "data": {
      "text/html": [
       "<div>\n",
       "<style scoped>\n",
       "    .dataframe tbody tr th:only-of-type {\n",
       "        vertical-align: middle;\n",
       "    }\n",
       "\n",
       "    .dataframe tbody tr th {\n",
       "        vertical-align: top;\n",
       "    }\n",
       "\n",
       "    .dataframe thead th {\n",
       "        text-align: right;\n",
       "    }\n",
       "</style>\n",
       "<table border=\"1\" class=\"dataframe\">\n",
       "  <thead>\n",
       "    <tr style=\"text-align: right;\">\n",
       "      <th></th>\n",
       "      <th>book</th>\n",
       "      <th>grade</th>\n",
       "      <th>level</th>\n",
       "      <th>science</th>\n",
       "      <th>text</th>\n",
       "      <th>text_org</th>\n",
       "    </tr>\n",
       "  </thead>\n",
       "  <tbody>\n",
       "    <tr>\n",
       "      <th>1</th>\n",
       "      <td>K_ck12.txt</td>\n",
       "      <td>K_1</td>\n",
       "      <td>0</td>\n",
       "      <td>1</td>\n",
       "      <td>we cannot see the wind but we can feel it . t...</td>\n",
       "      <td>We cannot see the wind but we can feel it. Th...</td>\n",
       "    </tr>\n",
       "    <tr>\n",
       "      <th>2</th>\n",
       "      <td>K_ck12.txt</td>\n",
       "      <td>K_1</td>\n",
       "      <td>0</td>\n",
       "      <td>1</td>\n",
       "      <td>yesterday it rained . there was a lot of wind...</td>\n",
       "      <td>Yesterday it rained. There was a lot of wind....</td>\n",
       "    </tr>\n",
       "    <tr>\n",
       "      <th>3</th>\n",
       "      <td>K_ck12.txt</td>\n",
       "      <td>K_1</td>\n",
       "      <td>0</td>\n",
       "      <td>1</td>\n",
       "      <td>summer is here ! july is sunny and hot . summ...</td>\n",
       "      <td>Summer is here! July is sunny and hot. Summer...</td>\n",
       "    </tr>\n",
       "    <tr>\n",
       "      <th>4</th>\n",
       "      <td>K_ck12.txt</td>\n",
       "      <td>K_1</td>\n",
       "      <td>0</td>\n",
       "      <td>1</td>\n",
       "      <td>it 's starting to cool down from the summer h...</td>\n",
       "      <td>It's starting to cool down from the summer he...</td>\n",
       "    </tr>\n",
       "    <tr>\n",
       "      <th>5</th>\n",
       "      <td>K_ck12.txt</td>\n",
       "      <td>K_1</td>\n",
       "      <td>0</td>\n",
       "      <td>1</td>\n",
       "      <td>the wind pushes the kite high into the sky . ...</td>\n",
       "      <td>The wind pushes the kite high into the sky. W...</td>\n",
       "    </tr>\n",
       "  </tbody>\n",
       "</table>\n",
       "</div>"
      ],
      "text/plain": [
       "         book grade  level  science  \\\n",
       "1  K_ck12.txt   K_1      0        1   \n",
       "2  K_ck12.txt   K_1      0        1   \n",
       "3  K_ck12.txt   K_1      0        1   \n",
       "4  K_ck12.txt   K_1      0        1   \n",
       "5  K_ck12.txt   K_1      0        1   \n",
       "\n",
       "                                                text  \\\n",
       "1   we cannot see the wind but we can feel it . t...   \n",
       "2   yesterday it rained . there was a lot of wind...   \n",
       "3   summer is here ! july is sunny and hot . summ...   \n",
       "4   it 's starting to cool down from the summer h...   \n",
       "5   the wind pushes the kite high into the sky . ...   \n",
       "\n",
       "                                            text_org  \n",
       "1   We cannot see the wind but we can feel it. Th...  \n",
       "2   Yesterday it rained. There was a lot of wind....  \n",
       "3   Summer is here! July is sunny and hot. Summer...  \n",
       "4   It's starting to cool down from the summer he...  \n",
       "5   The wind pushes the kite high into the sky. W...  "
      ]
     },
     "execution_count": 66,
     "metadata": {},
     "output_type": "execute_result"
    }
   ],
   "source": [
    "d_all.head()"
   ]
  },
  {
   "cell_type": "code",
   "execution_count": null,
   "metadata": {},
   "outputs": [],
   "source": []
  }
 ],
 "metadata": {
  "kernelspec": {
   "display_name": "Python 3",
   "language": "python",
   "name": "python3"
  },
  "language_info": {
   "codemirror_mode": {
    "name": "ipython",
    "version": 3
   },
   "file_extension": ".py",
   "mimetype": "text/x-python",
   "name": "python",
   "nbconvert_exporter": "python",
   "pygments_lexer": "ipython3",
   "version": "3.7.0"
  }
 },
 "nbformat": 4,
 "nbformat_minor": 2
}
