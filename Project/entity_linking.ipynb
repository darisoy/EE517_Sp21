{
  "nbformat": 4,
  "nbformat_minor": 0,
  "metadata": {
    "accelerator": "GPU",
    "colab": {
      "name": "EE517: Project.ipynb",
      "provenance": [],
      "collapsed_sections": [
        "nXSx0jEDC_Kg",
        "t7EpasiPPksV",
        "JHgdBEuSPfhr",
        "rHxHvquJPksX"
      ],
      "include_colab_link": true
    },
    "kernelspec": {
      "display_name": "Python 3",
      "language": "python",
      "name": "python3"
    },
    "language_info": {
      "codemirror_mode": {
        "name": "ipython",
        "version": 3
      },
      "file_extension": ".py",
      "mimetype": "text/x-python",
      "name": "python",
      "nbconvert_exporter": "python",
      "pygments_lexer": "ipython3",
      "version": "3.7.0"
    }
  },
  "cells": [
    {
      "cell_type": "markdown",
      "metadata": {
        "id": "view-in-github",
        "colab_type": "text"
      },
      "source": [
        "<a href=\"https://colab.research.google.com/github/darisoy/EE517_Sp21/blob/master/Project/entity_linking.ipynb\" target=\"_parent\"><img src=\"https://colab.research.google.com/assets/colab-badge.svg\" alt=\"Open In Colab\"/></a>"
      ]
    },
    {
      "cell_type": "markdown",
      "metadata": {
        "id": "3JWAa8kMoyij"
      },
      "source": [
        "# Entity linking system"
      ]
    },
    {
      "cell_type": "code",
      "metadata": {
        "id": "A9Ho64uEe7Xx"
      },
      "source": [
        "!pip install spacy-dbpedia-spotlight"
      ],
      "execution_count": null,
      "outputs": []
    },
    {
      "cell_type": "code",
      "metadata": {
        "colab": {
          "base_uri": "https://localhost:8080/"
        },
        "id": "SmYCrqPMeSzn",
        "outputId": "11c74716-3320-4b79-c894-942d427d26f2"
      },
      "source": [
        "import spacy_dbpedia_spotlight\n",
        "nlp = spacy_dbpedia_spotlight.create('en')\n",
        "\n",
        "doc = nlp('Google LLC is an American multinational technology company.')\n",
        "print([(ent.text, ent.kb_id_, ent._.dbpedia_raw_result['@similarityScore']) for ent in doc.ents])"
      ],
      "execution_count": 1,
      "outputs": [
        {
          "output_type": "stream",
          "text": [
            "[('Google LLC', 'http://dbpedia.org/resource/Google', '0.9999999999999005'), ('American', 'http://dbpedia.org/resource/United_States', '0.9861264878996763')]\n"
          ],
          "name": "stdout"
        }
      ]
    },
    {
      "cell_type": "code",
      "metadata": {
        "colab": {
          "base_uri": "https://localhost:8080/"
        },
        "id": "W6KtPhUxeupg",
        "outputId": "bf2d7524-2db7-4733-c2e7-57e17193b2db"
      },
      "source": [
        "doc = nlp('My name is Isaac Newton. I am currently doing Master\\'s in Artificial Intelligence at MIT. I love Natural Language Processing')\n",
        "print([(ent.text, ent.kb_id_, ent._.dbpedia_raw_result['@similarityScore']) for ent in doc.ents])"
      ],
      "execution_count": 2,
      "outputs": [
        {
          "output_type": "stream",
          "text": [
            "[('Isaac Newton', 'http://dbpedia.org/resource/Isaac_Newton', '0.9999999999925251'), ('Artificial Intelligence', 'http://dbpedia.org/resource/Artificial_intelligence', '0.9999817158624554'), ('MIT', 'http://dbpedia.org/resource/Massachusetts_Institute_of_Technology', '0.9995153792395778'), ('Natural Language Processing', 'http://dbpedia.org/resource/Natural_language_processing', '1.0')]\n"
          ],
          "name": "stdout"
        }
      ]
    }
  ]
}