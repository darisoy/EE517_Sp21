{
  "nbformat": 4,
  "nbformat_minor": 0,
  "metadata": {
    "kernelspec": {
      "display_name": "Python 3",
      "language": "python",
      "name": "python3"
    },
    "language_info": {
      "codemirror_mode": {
        "name": "ipython",
        "version": 3
      },
      "file_extension": ".py",
      "mimetype": "text/x-python",
      "name": "python",
      "nbconvert_exporter": "python",
      "pygments_lexer": "ipython3",
      "version": "3.7.0"
    },
    "colab": {
      "name": "EE517: Project_Combine.ipynb",
      "provenance": [],
      "include_colab_link": true
    }
  },
  "cells": [
    {
      "cell_type": "markdown",
      "metadata": {
        "id": "view-in-github",
        "colab_type": "text"
      },
      "source": [
        "<a href=\"https://colab.research.google.com/github/darisoy/EE517_Sp21/blob/master/Project/pipeline.ipynb\" target=\"_parent\"><img src=\"https://colab.research.google.com/assets/colab-badge.svg\" alt=\"Open In Colab\"/></a>"
      ]
    },
    {
      "cell_type": "markdown",
      "metadata": {
        "id": "-eQCgMJ3HVCz"
      },
      "source": [
        "# Set up the environment"
      ]
    },
    {
      "cell_type": "code",
      "metadata": {
        "id": "2mek_yYjHDLG"
      },
      "source": [
        "# install packages\n",
        "%%capture\n",
        "!pip install allennlp\n",
        "!pip install allennlp-models\n",
        "!pip install spacy-dbpedia-spotlight\n",
        "\n",
        "import spacy\n",
        "from allennlp.predictors.predictor import Predictor\n",
        "import spacy_dbpedia_spotlight"
      ],
      "execution_count": 48,
      "outputs": []
    },
    {
      "cell_type": "code",
      "metadata": {
        "id": "gwffFN3Icgrf"
      },
      "source": [
        "# install nlp\n",
        "%%capture\n",
        "!python -m spacy download en_core_web_lg\n",
        "nlp = spacy.load('en_core_web_lg')"
      ],
      "execution_count": 49,
      "outputs": []
    },
    {
      "cell_type": "code",
      "metadata": {
        "id": "fxct0yGuT510"
      },
      "source": [
        "# initialize models\n",
        "%%capture\n",
        "allen_model_url = 'https://storage.googleapis.com/allennlp-public-models/coref-spanbert-large-2020.02.27.tar.gz'\n",
        "allen_predictor = Predictor.from_path(allen_model_url)  # load the model\n",
        "nel = spacy_dbpedia_spotlight.create('en')"
      ],
      "execution_count": 50,
      "outputs": []
    },
    {
      "cell_type": "markdown",
      "metadata": {
        "id": "iPj_y-xBUnUx"
      },
      "source": [
        "# Functions"
      ]
    },
    {
      "cell_type": "code",
      "metadata": {
        "id": "rcGLEDtMVHJ0"
      },
      "source": [
        "def get_coref(text, predictor):\n",
        "    prediction = predictor.predict(document=text)\n",
        "    clusters = []\n",
        "    for cluster in prediction['clusters']:\n",
        "        mention_ref = []\n",
        "        for token in cluster:\n",
        "            token_start = token[0]\n",
        "            token_end = token[1]\n",
        "            mention = \" \".join(prediction['document'][token_start:token_end + 1])\n",
        "            mention_ref.append(mention)\n",
        "        clusters.append(mention_ref)\n",
        "    return clusters"
      ],
      "execution_count": 51,
      "outputs": []
    },
    {
      "cell_type": "code",
      "metadata": {
        "id": "aGGuD-hCVxaI"
      },
      "source": [
        "def get_ner(text):\n",
        "    doc = nlp(text)\n",
        "    return [ent.text for ent in doc.ents if ent.label_ == 'PERSON']"
      ],
      "execution_count": 32,
      "outputs": []
    },
    {
      "cell_type": "code",
      "metadata": {
        "id": "_eNSPah3ZQr6"
      },
      "source": [
        "def get_nel(text):\n",
        "    threshold = 0.95\n",
        "    doc = nel(text)\n",
        "    return [ent.text for ent in doc.ents if float(ent._.dbpedia_raw_result['@similarityScore']) >= threshold]"
      ],
      "execution_count": 71,
      "outputs": []
    },
    {
      "cell_type": "markdown",
      "metadata": {
        "id": "T9B1orA3G6NF"
      },
      "source": [
        "# Some sample text"
      ]
    },
    {
      "cell_type": "code",
      "metadata": {
        "id": "ehhkjavYGO5r"
      },
      "source": [
        "sample = 'Isaac Newton invented the wheel. He didn\\'t go to kindergarden but he was familiar with circles. When told this story, Jessica didn\\'t believe it. She thought Newton was a lie.'"
      ],
      "execution_count": 87,
      "outputs": []
    },
    {
      "cell_type": "markdown",
      "metadata": {
        "id": "SMFHRnZAZbJh"
      },
      "source": [
        "# Test"
      ]
    },
    {
      "cell_type": "code",
      "metadata": {
        "id": "2dIb0xPzZcZK"
      },
      "source": [
        "clusters = get_coref(sample, allen_predictor)\n",
        "person_mentions = get_ner(sample)\n",
        "famous_people = get_nel(sample)\n",
        "# TODO: get non-name person mentions using simple rules (for he, she, we, you...)\n",
        "# person_mentions.append(...)"
      ],
      "execution_count": 88,
      "outputs": []
    },
    {
      "cell_type": "code",
      "metadata": {
        "colab": {
          "base_uri": "https://localhost:8080/"
        },
        "id": "IV6Y-euDaPfy",
        "outputId": "3c58031c-cbc9-45c2-87c4-d8e17dac5286"
      },
      "source": [
        "clusters"
      ],
      "execution_count": 89,
      "outputs": [
        {
          "output_type": "execute_result",
          "data": {
            "text/plain": [
              "[['Isaac Newton', 'He', 'he', 'Newton'],\n",
              " ['this story', 'it'],\n",
              " ['Jessica', 'She']]"
            ]
          },
          "metadata": {
            "tags": []
          },
          "execution_count": 89
        }
      ]
    },
    {
      "cell_type": "code",
      "metadata": {
        "colab": {
          "base_uri": "https://localhost:8080/"
        },
        "id": "6jbYrwn2aGyh",
        "outputId": "5c07fbad-3e28-4f61-c885-b4269acdabd3"
      },
      "source": [
        "person_mentions"
      ],
      "execution_count": 90,
      "outputs": [
        {
          "output_type": "execute_result",
          "data": {
            "text/plain": [
              "['Isaac Newton', 'Jessica', 'Newton']"
            ]
          },
          "metadata": {
            "tags": []
          },
          "execution_count": 90
        }
      ]
    },
    {
      "cell_type": "code",
      "metadata": {
        "colab": {
          "base_uri": "https://localhost:8080/"
        },
        "id": "SH_oMsvbfTV5",
        "outputId": "ecb20d38-9727-4ca2-908f-2fd6a8884d42"
      },
      "source": [
        "famous_people"
      ],
      "execution_count": 91,
      "outputs": [
        {
          "output_type": "execute_result",
          "data": {
            "text/plain": [
              "['Isaac Newton', 'Newton']"
            ]
          },
          "metadata": {
            "tags": []
          },
          "execution_count": 91
        }
      ]
    },
    {
      "cell_type": "markdown",
      "metadata": {
        "id": "y7-v8M59g9Ci"
      },
      "source": [
        "# Combine results"
      ]
    },
    {
      "cell_type": "code",
      "metadata": {
        "id": "MDhS0Ov5faHy"
      },
      "source": [
        "# This is PSUEDO code needs work (it looks like this will work, but it won't)\n",
        "# We should move away from string based system to a word index based model\n",
        "historical = []\n",
        "hypothetical = []\n",
        "for person in person_mentions:\n",
        "    if person in historical or person in hypothetical: # needs to be fixed, this is not this easy\n",
        "        continue\n",
        "    person_set = clusters.index(person) #this is also wrong\n",
        "    if person in famous_people:\n",
        "        historical.append(person_set)\n",
        "    else:\n",
        "        hypothetical.append(person_set)"
      ],
      "execution_count": null,
      "outputs": []
    }
  ]
}