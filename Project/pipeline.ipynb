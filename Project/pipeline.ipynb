{
  "nbformat": 4,
  "nbformat_minor": 0,
  "metadata": {
    "colab": {
      "name": "EE517: Project pipeline.ipynb",
      "provenance": [],
      "collapsed_sections": [
        "T9B1orA3G6NF"
      ],
      "toc_visible": true,
      "include_colab_link": true
    },
    "kernelspec": {
      "display_name": "Python 3",
      "language": "python",
      "name": "python3"
    },
    "language_info": {
      "codemirror_mode": {
        "name": "ipython",
        "version": 3
      },
      "file_extension": ".py",
      "mimetype": "text/x-python",
      "name": "python",
      "nbconvert_exporter": "python",
      "pygments_lexer": "ipython3",
      "version": "3.7.0"
    }
  },
  "cells": [
    {
      "cell_type": "markdown",
      "metadata": {
        "id": "view-in-github",
        "colab_type": "text"
      },
      "source": [
        "<a href=\"https://colab.research.google.com/github/darisoy/EE517_Sp21/blob/master/Project/pipeline.ipynb\" target=\"_parent\"><img src=\"https://colab.research.google.com/assets/colab-badge.svg\" alt=\"Open In Colab\"/></a>"
      ]
    },
    {
      "cell_type": "markdown",
      "metadata": {
        "id": "-eQCgMJ3HVCz"
      },
      "source": [
        "# Set up the environment"
      ]
    },
    {
      "cell_type": "code",
      "metadata": {
        "id": "2mek_yYjHDLG"
      },
      "source": [
        "# install packages\n",
        "%%capture\n",
        "!pip install allennlp\n",
        "!pip install allennlp-models\n",
        "!pip install spacy-dbpedia-spotlight\n",
        "!pip install gender-guesser\n",
        "!git clone https://github.com/darisoy/EE517_Sp21.git\n",
        "\n",
        "import spacy\n",
        "import pandas as pd\n",
        "from allennlp.predictors.predictor import Predictor\n",
        "import spacy_dbpedia_spotlight\n",
        "import gender_guesser.detector as gender\n",
        "from tqdm.notebook import tqdm"
      ],
      "execution_count": 11,
      "outputs": []
    },
    {
      "cell_type": "code",
      "metadata": {
        "id": "gwffFN3Icgrf"
      },
      "source": [
        "# initialize models\n",
        "%%capture\n",
        "!python -m spacy download en_core_web_lg\n",
        "nlp = spacy.load('en_core_web_lg')\n",
        "allen_model_url = 'https://storage.googleapis.com/allennlp-public-models/coref-spanbert-large-2020.02.27.tar.gz'\n",
        "allen_predictor = Predictor.from_path(allen_model_url)  # load the model\n",
        "nel = spacy_dbpedia_spotlight.create('en')\n",
        "genDec = gender.Detector()"
      ],
      "execution_count": 2,
      "outputs": []
    },
    {
      "cell_type": "code",
      "metadata": {
        "id": "ao4OtUgPp3Dw"
      },
      "source": [
        "#list of person mentions that are not names\n",
        "fem_p = ['she', 'her', 'hers', 'herself']\n",
        "male_p = ['he', 'him', 'his', 'himself']\n",
        "personal_p = ['i', 'me', 'we', 'us', 'myself', 'ourself', 'ourselves']\n",
        "other_p = ['they', 'them', 'their', 'you', 'themself', 'themselves']\n",
        "people = ['adult','adults', 'person','people','child','children']\n",
        "\n",
        "person_f_singular = ['girl','woman','mrs','ms','mother','mom','aunt','niece','sister','wife','daughter','grandmother','grandma','grandmom','granddaughter','bride','girlfriend','gal','madam','lady']\n",
        "person_m_singular = ['boy','man','mr','father','dad','uncle','nephew','brother','husband','son','grandfather','grandpa','granddad','grandson','groom','boyfriend','guy','gentleman','bachelor']\n",
        "people_f_plural = ['girls','women','mothers','moms','aunts','nieces','sisters','wives','daughters','grandmothers','grandmas','granddaughters','brides','girlfriends','gals','ladies']\n",
        "people_m_plural = ['boys','men','fathers','dads','uncles','nephews','brothers','husbands','sons','grandfathers','grandpas','grandsons','grooms','boyfriends','guys','gentlemen','bachelors']\n",
        "people_f = person_f_singular + people_f_plural\n",
        "people_m = person_m_singular + people_m_plural\n",
        "\n",
        "un_named_mentions = fem_p + male_p + personal_p + other_p + people + people_f + people_m\n",
        "f_un_named = fem_p + people_f\n",
        "m_un_named = male_p + people_m\n",
        "gendered_un_named = f_un_named + m_un_named\n",
        "neutral_un_named = personal_p + other_p + people"
      ],
      "execution_count": 102,
      "outputs": []
    },
    {
      "cell_type": "code",
      "metadata": {
        "colab": {
          "base_uri": "https://localhost:8080/",
          "height": 206
        },
        "id": "hB2dutoaHroM",
        "outputId": "b324d1a7-19d0-4a95-a988-11438c53448e"
      },
      "source": [
        "# get data\n",
        "train = pd.read_csv('/content/train.csv', delimiter= \",\", low_memory=False, index_col=0)\n",
        "test = pd.read_csv('/content/test.csv', delimiter= \",\", low_memory=False, index_col=0)\n",
        "data = pd.concat([train, test], axis = 0)\n",
        "data = data.drop(['bool', 'book', 'text', 'level'], axis=1)\n",
        "data = data.rename(columns={'text_org': 'text'})\n",
        "data.fillna('[]',inplace = True)\n",
        "data.reset_index(drop=True, inplace=True)\n",
        "data[data.grade=='12'].head()"
      ],
      "execution_count": 147,
      "outputs": [
        {
          "output_type": "execute_result",
          "data": {
            "text/html": [
              "<div>\n",
              "<style scoped>\n",
              "    .dataframe tbody tr th:only-of-type {\n",
              "        vertical-align: middle;\n",
              "    }\n",
              "\n",
              "    .dataframe tbody tr th {\n",
              "        vertical-align: top;\n",
              "    }\n",
              "\n",
              "    .dataframe thead th {\n",
              "        text-align: right;\n",
              "    }\n",
              "</style>\n",
              "<table border=\"1\" class=\"dataframe\">\n",
              "  <thead>\n",
              "    <tr style=\"text-align: right;\">\n",
              "      <th></th>\n",
              "      <th>grade</th>\n",
              "      <th>science</th>\n",
              "      <th>text</th>\n",
              "    </tr>\n",
              "  </thead>\n",
              "  <tbody>\n",
              "    <tr>\n",
              "      <th>5</th>\n",
              "      <td>12</td>\n",
              "      <td>1</td>\n",
              "      <td>SPONSOR This textbook was developed with corp...</td>\n",
              "    </tr>\n",
              "    <tr>\n",
              "      <th>6</th>\n",
              "      <td>12</td>\n",
              "      <td>1</td>\n",
              "      <td>Well structured, impactful Corporate Social I...</td>\n",
              "    </tr>\n",
              "    <tr>\n",
              "      <th>7</th>\n",
              "      <td>12</td>\n",
              "      <td>1</td>\n",
              "      <td>The merger between Metropolitan and Momentum ...</td>\n",
              "    </tr>\n",
              "    <tr>\n",
              "      <th>8</th>\n",
              "      <td>12</td>\n",
              "      <td>1</td>\n",
              "      <td>HIV/AIDS is becoming a manageable disease in ...</td>\n",
              "    </tr>\n",
              "    <tr>\n",
              "      <th>9</th>\n",
              "      <td>12</td>\n",
              "      <td>1</td>\n",
              "      <td>Momentum's focus on persons with disabilities...</td>\n",
              "    </tr>\n",
              "  </tbody>\n",
              "</table>\n",
              "</div>"
            ],
            "text/plain": [
              "  grade  science                                               text\n",
              "5    12        1   SPONSOR This textbook was developed with corp...\n",
              "6    12        1   Well structured, impactful Corporate Social I...\n",
              "7    12        1   The merger between Metropolitan and Momentum ...\n",
              "8    12        1   HIV/AIDS is becoming a manageable disease in ...\n",
              "9    12        1   Momentum's focus on persons with disabilities..."
            ]
          },
          "metadata": {
            "tags": []
          },
          "execution_count": 147
        }
      ]
    },
    {
      "cell_type": "markdown",
      "metadata": {
        "id": "iPj_y-xBUnUx"
      },
      "source": [
        "# Helper Functions"
      ]
    },
    {
      "cell_type": "code",
      "metadata": {
        "id": "rcGLEDtMVHJ0"
      },
      "source": [
        "# run text through models\n",
        "\n",
        "def get_coref(text):\n",
        "    prediction = allen_predictor.predict(document=text)\n",
        "    return prediction['clusters'], prediction['document']\n",
        "\n",
        "def get_ner(text, nlp):\n",
        "    return [[ent.start, ent.end-1] for ent in nlp(text).ents if ent.label_ == 'PERSON']\n",
        "\n",
        "def get_nel(text, nel):\n",
        "    threshold = 0.95\n",
        "    return [[ent.start, ent.end-1] for ent in nel(text).ents if float(ent._.dbpedia_raw_result['@similarityScore']) >= threshold]\n",
        "\n",
        "def get_gender(person_mention):\n",
        "    if person_mention.lower() in gendered_un_named:\n",
        "        if person_mention.lower() in f_un_named:\n",
        "            return 'F'\n",
        "        elif person_mention.lower() in m_un_named:\n",
        "            return 'M'\n",
        "    elif len(person_mention) > 0:\n",
        "        first_name = person_mention.split()[0]\n",
        "        gen_name = genDec.get_gender(first_name.capitalize())\n",
        "        if 'female' in gen_name:\n",
        "            return 'F'\n",
        "        elif 'male' in gen_name:\n",
        "            return 'M'\n",
        "    return '-'\n",
        "\n",
        "def get_pronouns(dic):\n",
        "    result = []\n",
        "    for i, word in enumerate(dic):\n",
        "        if word.lower() in gendered_un_named:\n",
        "            result.append([i, i])\n",
        "    return result"
      ],
      "execution_count": 157,
      "outputs": []
    },
    {
      "cell_type": "code",
      "metadata": {
        "id": "hsOV3OBUnjZZ"
      },
      "source": [
        "# converting spans to text\n",
        "\n",
        "def span_to_string(span, dic):\n",
        "    [a, b] = span\n",
        "    return \" \".join(dic[a:b+1])\n",
        "\n",
        "def array_to_text(array, dic):\n",
        "    return [span_to_string(e, dic) for e in array]\n",
        "\n",
        "def array2d_to_text(array2D, dic):\n",
        "    return [array_to_text(arr, dic) for arr in array2D]"
      ],
      "execution_count": 158,
      "outputs": []
    },
    {
      "cell_type": "code",
      "metadata": {
        "id": "MDhS0Ov5faHy"
      },
      "source": [
        "# get hypo & histo from model results\n",
        "\n",
        "def get_cluster(person, clusters):\n",
        "    for i, cluster in enumerate(clusters):\n",
        "        if person in cluster:\n",
        "            return clusters[i]\n",
        "    return [person]\n",
        "\n",
        "def split_hist_hypo(clusters, person_mentions, famous_people, gender):\n",
        "    historical = []\n",
        "    hypothetical = []\n",
        "    for i, person in enumerate(person_mentions):\n",
        "        # skip if not gendered\n",
        "        if gender[i] == '-':\n",
        "            continue\n",
        "        # skip if already in one of the lists\n",
        "        in_historical = any(person in sublist for sublist in historical)\n",
        "        in_hypothetical = any(person in sublist for sublist in hypothetical)\n",
        "        if in_historical or in_hypothetical:\n",
        "            continue\n",
        "        # add the cluster to correct list\n",
        "        person_set = get_cluster(person, clusters)\n",
        "        if any(p in person_set for p in famous_people):\n",
        "            historical.append(person_set)\n",
        "        else:\n",
        "            hypothetical.append(person_set)\n",
        "    return historical, hypothetical"
      ],
      "execution_count": 159,
      "outputs": []
    },
    {
      "cell_type": "markdown",
      "metadata": {
        "id": "8WKwQ7xp4z3k"
      },
      "source": [
        "# Single Instance Pipeline"
      ]
    },
    {
      "cell_type": "code",
      "metadata": {
        "id": "2dIb0xPzZcZK"
      },
      "source": [
        "# pipline for a single given text\n",
        "def get_hist_hypo_references(text, nlp, nel, debug=False):\n",
        "    doc = nlp(text)\n",
        "    clusters, dic = get_coref(text)\n",
        "    person_mentions = get_ner(text, nlp) + get_pronouns(dic)\n",
        "    gender = [get_gender(span_to_string(p, dic)) for p in person_mentions]\n",
        "    famous_people = get_nel(text, nel)\n",
        "    hist, hypo = split_hist_hypo(clusters, person_mentions, famous_people, gender)\n",
        "    hist = array2d_to_text(hist, dic)\n",
        "    hypo = array2d_to_text(hypo, dic)\n",
        "    if debug and len(person_mentions) > 0:\n",
        "        print('***NEW SENTENCE***\\t\\t %s' % text)\n",
        "        print()\n",
        "        print('Coreference Model Output\\t %s' % array2d_to_text(clusters, dic))\n",
        "        print('NER + Pronouns Output\\t\\t %s' % array_to_text(person_mentions, dic))\n",
        "        print('Gender Guesser Output\\t\\t %s' % gender)\n",
        "        print('NEL Output\\t\\t\\t %s' % array_to_text(famous_people, dic,))\n",
        "        print()\n",
        "        print('Historical references\\t\\t %s' % hist)\n",
        "        print('Hypothetical references\\t\\t %s' % hypo)\n",
        "        print()\n",
        "        print()\n",
        "    return hist, hypo"
      ],
      "execution_count": 8,
      "outputs": []
    },
    {
      "cell_type": "code",
      "metadata": {
        "colab": {
          "base_uri": "https://localhost:8080/"
        },
        "id": "ehhkjavYGO5r",
        "outputId": "00c1b9f8-886c-466d-c411-a3390aca7085"
      },
      "source": [
        "sample = 'Albert Einstein didn\\'t want his friend Jenny to feel lonely so they invited her to the party. Tom is happy.'\n",
        "hist, hypo = get_hist_hypo_references(sample, nlp, nel, debug=True)"
      ],
      "execution_count": 9,
      "outputs": [
        {
          "output_type": "stream",
          "text": [
            "***NEW SENTENCE***\t\t Albert Einstein didn't want his friend Jenny to feel lonely so they invited her to the party. Tom is happy.\n",
            "\n",
            "Coreference Model Output\t [['Albert Einstein', 'his'], ['his friend Jenny', 'her']]\n",
            "NER + Pronouns Output\t\t ['Albert Einstein', 'Jenny', 'Tom', 'his', 'they', 'her']\n",
            "Gender Guesser Output\t\t ['M', 'F', 'M', 'M', '-', 'F']\n",
            "NEL Output\t\t\t ['Albert Einstein']\n",
            "\n",
            "Historical references\t\t [['Albert Einstein', 'his']]\n",
            "Hypothetical references\t\t [['Jenny'], ['Tom'], ['his friend Jenny', 'her']]\n",
            "\n",
            "\n"
          ],
          "name": "stdout"
        }
      ]
    },
    {
      "cell_type": "markdown",
      "metadata": {
        "id": "ZGur_Mz85boR"
      },
      "source": [
        "# Scaled Pipeline"
      ]
    },
    {
      "cell_type": "code",
      "metadata": {
        "id": "dXmFs9Ue7j5d"
      },
      "source": [
        "data_genders = [False for _ in range(len(data))]\n",
        "for i, row in tqdm(data.iterrows()):\n",
        "    dic = row.text.split()\n",
        "    person_mentions = get_ner(row.text, nlp) + get_pronouns(dic)\n",
        "    genders = [get_gender(span_to_string(p, dic)) for p in person_mentions]\n",
        "    male_mentions = [_ for g in genders if g == 'M']\n",
        "    female_mentions = [_ for g in genders if g == 'F']\n",
        "    data_genders[i] = len(male_mentions)>0 or len(female_mentions)>0\n",
        "data['gendered'] = data_genders\n",
        "gendered = data[data['gendered']]\n",
        "gendered = gendered.drop(['gendered'], axis=1)\n",
        "gendered.to_csv('/content/gendered.csv', index=False)"
      ],
      "execution_count": null,
      "outputs": []
    },
    {
      "cell_type": "code",
      "metadata": {
        "id": "Lcg9jHciS8i8"
      },
      "source": [
        "gendered_data = pd.read_csv('/content/gendered.csv', delimiter= \",\", low_memory=False)"
      ],
      "execution_count": 168,
      "outputs": []
    },
    {
      "cell_type": "code",
      "metadata": {
        "id": "NscKK-Vv5fPA"
      },
      "source": [
        "# TODO\n",
        "# eliminate sentences with no gender mentions first\n",
        "# then run through AllenNLP and NEL"
      ],
      "execution_count": null,
      "outputs": []
    },
    {
      "cell_type": "markdown",
      "metadata": {
        "id": "T9B1orA3G6NF"
      },
      "source": [
        "# Test Pipeline"
      ]
    },
    {
      "cell_type": "code",
      "metadata": {
        "colab": {
          "base_uri": "https://localhost:8080/"
        },
        "id": "bjZfesUaMcPN",
        "outputId": "fc467d04-35eb-4210-d3b1-954ca6cfd6a7"
      },
      "source": [
        "for i, row in gendered_data.iterrows():\n",
        "    hist, hypo = get_hist_hypo_references(row.text, nlp, nel, debug=True)\n",
        "    if i > 10:\n",
        "        break"
      ],
      "execution_count": 171,
      "outputs": [
        {
          "output_type": "stream",
          "text": [
            "***NEW SENTENCE***\t\t  Look at the sky diver. Do you see him fall? We do not see gravity. It is what pulls him down.\n",
            "\n",
            "Coreference Model Output\t [['the sky diver', 'him', 'him'], ['gravity', 'It']]\n",
            "NER + Pronouns Output\t\t ['him', 'him']\n",
            "Gender Guesser Output\t\t ['M', 'M']\n",
            "NEL Output\t\t\t ['sky diver', 'gravity']\n",
            "\n",
            "Historical references\t\t []\n",
            "Hypothetical references\t\t [['the sky diver', 'him', 'him']]\n",
            "\n",
            "\n",
            "***NEW SENTENCE***\t\t  A driver is stopped at a stoplight. He waits for the light to turn green. The driver looks to his right. He sees an interesting store. Honk, honk, is the sound heard from behind. Why would another driver beep their horn?\n",
            "\n",
            "Coreference Model Output\t [['A driver', 'He', 'The driver', 'his', 'He'], ['a stoplight', 'the light'], ['another driver', 'their']]\n",
            "NER + Pronouns Output\t\t ['He', 'his', 'He']\n",
            "Gender Guesser Output\t\t ['M', 'M', 'M']\n",
            "NEL Output\t\t\t ['The driver']\n",
            "\n",
            "Historical references\t\t [['A driver', 'He', 'The driver', 'his', 'He']]\n",
            "Hypothetical references\t\t []\n",
            "\n",
            "\n",
            "***NEW SENTENCE***\t\t  The sound is a signal. The driver of the car wants to move. The driver of the first car looks up. The light has turned green. He steps on the gas pedal. The car moves forward. The driver now needs to turn left. What do you think he will do to signal the left turn?\n",
            "\n",
            "Coreference Model Output\t [['The driver of the car', 'The driver of the first car', 'He', 'The driver', 'he'], ['the car', 'the first car', 'The car'], ['turn', 'the left turn']]\n",
            "NER + Pronouns Output\t\t ['He', 'he']\n",
            "Gender Guesser Output\t\t ['M', 'M']\n",
            "NEL Output\t\t\t ['The driver', 'The driver', 'The driver', 'turn left']\n",
            "\n",
            "Historical references\t\t [['The driver of the car', 'The driver of the first car', 'He', 'The driver', 'he']]\n",
            "Hypothetical references\t\t []\n",
            "\n",
            "\n",
            "***NEW SENTENCE***\t\t  The driver comes up to the next intersection. He turns on his blinker. The light blinks on and off. It tells other drivers which way the car will be turning. It is another way to send signals.\n",
            "\n",
            "Coreference Model Output\t [['The driver', 'He', 'his'], ['the next intersection', 'The light', 'It']]\n",
            "NER + Pronouns Output\t\t ['He', 'his']\n",
            "Gender Guesser Output\t\t ['M', 'M']\n",
            "NEL Output\t\t\t ['The driver']\n",
            "\n",
            "Historical references\t\t [['The driver', 'He', 'his']]\n",
            "Hypothetical references\t\t []\n",
            "\n",
            "\n",
            "***NEW SENTENCE***\t\t  The Sun is always in the sky during the day. The Moon is not always up during the night. Sometimes, the Moon is still in the sky during the morning. Sometimes, it is visible before the Sun goes down.\n",
            "\n",
            "Coreference Model Output\t [['The Moon', 'the Moon', 'it'], ['the sky', 'the sky'], ['The Sun', 'the Sun']]\n",
            "NER + Pronouns Output\t\t ['Moon', 'Moon']\n",
            "Gender Guesser Output\t\t ['-', '-']\n",
            "NEL Output\t\t\t ['Sun', 'Moon', 'Moon', 'Sun']\n",
            "\n",
            "Historical references\t\t []\n",
            "Hypothetical references\t\t []\n",
            "\n",
            "\n",
            "***NEW SENTENCE***\t\t  Galileo built the first telescope in 1608. His first telescope used a lens. Lenses bend, or refract, light. Many people still use this type of telescope. They help us see close objects better.\n",
            "\n",
            "Coreference Model Output\t [['the first telescope', 'His first telescope'], ['this type of telescope', 'They']]\n",
            "NER + Pronouns Output\t\t ['His']\n",
            "Gender Guesser Output\t\t ['M']\n",
            "NEL Output\t\t\t ['Galileo', 'telescope', 'telescope', 'lens', 'refract', 'telescope']\n",
            "\n",
            "Historical references\t\t []\n",
            "Hypothetical references\t\t [['His']]\n",
            "\n",
            "\n",
            "***NEW SENTENCE***\t\t  Grandpa, Grandpa, wait for me, the young girl shouted. There were almost 300 stairs to go up. Grandpa has made this climb many times in his life. The young girl hurried to keep up.\n",
            "\n",
            "Coreference Model Output\t [['Grandpa', 'Grandpa', 'Grandpa', 'his'], ['me', 'the young girl', 'The young girl'], ['almost 300 stairs to go up', 'this climb']]\n",
            "NER + Pronouns Output\t\t ['Grandpa', 'Grandpa', 'Grandpa', 'girl', 'Grandpa', 'his', 'girl']\n",
            "Gender Guesser Output\t\t ['M', 'M', 'M', 'F', 'M', 'M', 'F']\n",
            "NEL Output\t\t\t []\n",
            "\n",
            "Historical references\t\t []\n",
            "Hypothetical references\t\t [['Grandpa', 'Grandpa', 'Grandpa', 'his'], ['girl'], ['girl']]\n",
            "\n",
            "\n",
            "***NEW SENTENCE***\t\t  It is a long climb to the top of the lighthouse. The view from the top made the trip worth it. Wow! The young girl exclaimed as her grandpa grinned.\n",
            "\n",
            "Coreference Model Output\t [['the top of the lighthouse', 'the top'], ['The young girl', 'her']]\n",
            "NER + Pronouns Output\t\t ['girl', 'her', 'grandpa']\n",
            "Gender Guesser Output\t\t ['F', 'F', 'M']\n",
            "NEL Output\t\t\t ['lighthouse', 'The view']\n",
            "\n",
            "Historical references\t\t []\n",
            "Hypothetical references\t\t [['girl'], ['The young girl', 'her'], ['grandpa']]\n",
            "\n",
            "\n",
            "***NEW SENTENCE***\t\t  Her grandpa used to work at the lighthouse. Now he is retired. He explained, This was a very important job. It was his job to keep all the ships safe.\n",
            "\n",
            "Coreference Model Output\t [['Her grandpa', 'he', 'He', 'his'], ['the lighthouse', 'This']]\n",
            "NER + Pronouns Output\t\t ['Her', 'grandpa', 'he', 'He', 'his']\n",
            "Gender Guesser Output\t\t ['F', 'M', 'M', 'M', 'M']\n",
            "NEL Output\t\t\t ['lighthouse']\n",
            "\n",
            "Historical references\t\t []\n",
            "Hypothetical references\t\t [['Her'], ['grandpa'], ['Her grandpa', 'he', 'He', 'his']]\n",
            "\n",
            "\n",
            "***NEW SENTENCE***\t\t  What if it was foggy? the young girl asked.\n",
            "\n",
            "Coreference Model Output\t []\n",
            "NER + Pronouns Output\t\t ['girl']\n",
            "Gender Guesser Output\t\t ['F']\n",
            "NEL Output\t\t\t []\n",
            "\n",
            "Historical references\t\t []\n",
            "Hypothetical references\t\t [['girl']]\n",
            "\n",
            "\n",
            "***NEW SENTENCE***\t\t  The ships would blow their big horns. Other ships could hear each other. They used the sound instead of light. It wasn't perfect, Grandpa exclaimed, but it was all we had. It's not all that different today, Grandpa explained. Cars still use lights at night. Lights keep cars safe. Cars also have horns. The horns get other drivers attention. What can I say, things haven't changed that much, Grandpa said. Her grandpa used to work at the lighthouse. Now he is retired. He explained, This was a very important job.\n",
            "\n",
            "Coreference Model Output\t [['The ships', 'their'], ['Other ships', 'They'], ['It', 'it'], ['Grandpa', 'Grandpa', 'I', 'Grandpa'], ['horns', 'The horns'], ['Her grandpa', 'he', 'He'], ['work', 'This']]\n",
            "NER + Pronouns Output\t\t ['Grandpa', 'Grandpa', 'Grandpa', 'Grandpa', 'Grandpa', 'Grandpa', 'Her', 'grandpa', 'he', 'He']\n",
            "Gender Guesser Output\t\t ['M', 'M', 'M', 'M', 'M', 'M', 'F', 'M', 'M', 'M']\n",
            "NEL Output\t\t\t ['lighthouse']\n",
            "\n",
            "Historical references\t\t []\n",
            "Hypothetical references\t\t [['Grandpa', 'Grandpa', 'I', 'Grandpa'], ['Her'], ['grandpa'], ['Her grandpa', 'he', 'He']]\n",
            "\n",
            "\n",
            "***NEW SENTENCE***\t\t  It was his job to keep all the ships safe.\n",
            "\n",
            "Coreference Model Output\t []\n",
            "NER + Pronouns Output\t\t ['his']\n",
            "Gender Guesser Output\t\t ['M']\n",
            "NEL Output\t\t\t []\n",
            "\n",
            "Historical references\t\t []\n",
            "Hypothetical references\t\t [['his']]\n",
            "\n",
            "\n"
          ],
          "name": "stdout"
        }
      ]
    },
    {
      "cell_type": "markdown",
      "metadata": {
        "id": "Dzy4iY-UvC8x"
      },
      "source": [
        "# Evaluate Annotations"
      ]
    },
    {
      "cell_type": "markdown",
      "metadata": {
        "id": "KwbKaalzwlJ6"
      },
      "source": [
        "## Gender guesser evaluation"
      ]
    },
    {
      "cell_type": "code",
      "metadata": {
        "colab": {
          "base_uri": "https://localhost:8080/"
        },
        "id": "AfSoL284x8D8",
        "outputId": "b267ba16-9e23-40e2-f978-09f389792b22"
      },
      "source": [
        "pipe_male = 0\n",
        "pipe_female = 0\n",
        "pipe_total = 0\n",
        "ann_male = 0\n",
        "ann_female = 0\n",
        "ann_total = 0\n",
        "pipe_ann_total = 0\n",
        "pipe_ann_male = 0\n",
        "pipe_ann_female = 0\n",
        "for i in range(100):\n",
        "    text_file = \"/content/EE517_Sp21/Project/F_M_N_mentions_labeled/F_M_N_%d.txt\" % (i+1)\n",
        "    ann_file = \"/content/EE517_Sp21/Project/F_M_N_mentions_labeled/F_M_N_%d.ann\" % (i+1)\n",
        "    \n",
        "    text = open(text_file, 'r').readline()\n",
        "    dic = text.split()\n",
        "    person_mentions = get_ner(text, nlp) + get_pronouns(dic)\n",
        "    genders = [get_gender(span_to_string(p, dic)) for p in person_mentions]\n",
        "    pipe_male_mentions = [_ for g in genders if g == 'M']\n",
        "    pipe_female_mentions = [_ for g in genders if g == 'F']\n",
        "    pipe_total += len(person_mentions)\n",
        "    pipe_male += len(pipe_male_mentions)\n",
        "    pipe_female += len(pipe_female_mentions)\n",
        "\n",
        "    pipe_mentions = array_to_text(person_mentions, dic)\n",
        "\n",
        "    for line in open(ann_file, 'r'):\n",
        "        info = line.split('\\t')\n",
        "        gender = info[1].split()[0]\n",
        "        word = info[2][:-1]\n",
        "\n",
        "        if gender == \"Male\":\n",
        "            ann_male += 1\n",
        "        if gender == \"Female\":\n",
        "            ann_female += 1\n",
        "        ann_total += 1\n",
        "\n",
        "        if word in pipe_mentions:\n",
        "            pipe_ann_total += 1\n",
        "            index = pipe_mentions.index(word)\n",
        "            if genders[index] == gender[0]:\n",
        "                if gender == \"Male\":\n",
        "                    pipe_ann_male += 1\n",
        "                if gender == \"Female\":\n",
        "                    pipe_ann_female += 1\n",
        "\n",
        "print(\"Pipeline results:\")\n",
        "print(\"\\tTotal person mentions: %i\" % pipe_total)\n",
        "print(\"\\tMale mentions: %i\" % pipe_male)\n",
        "print(\"\\tFemale mentions: %i\" % pipe_female)\n",
        "print()\n",
        "print(\"Annotations results:\")\n",
        "print(\"\\tTotal person mentions: %i\" % ann_total)\n",
        "print(\"\\tMale mentions: %i\" % ann_male)\n",
        "print(\"\\tFemale mentions: %i\" % ann_female)\n",
        "print()\n",
        "print(\"In pipeline and annotations results:\")\n",
        "print(\"\\tTotal person mentions: %i\" % pipe_ann_total)\n",
        "print(\"\\tMale mentions: %i\" % pipe_ann_male)\n",
        "print(\"\\tFemale mentions: %i\" % pipe_ann_female)"
      ],
      "execution_count": 106,
      "outputs": [
        {
          "output_type": "stream",
          "text": [
            "Pipeline results:\n",
            "\tTotal person mentions: 83\n",
            "\tMale mentions: 41\n",
            "\tFemale mentions: 14\n",
            "\n",
            "Annotations results:\n",
            "\tTotal person mentions: 272\n",
            "\tMale mentions: 65\n",
            "\tFemale mentions: 11\n",
            "\n",
            "In pipeline and annotations results:\n",
            "\tTotal person mentions: 43\n",
            "\tMale mentions: 37\n",
            "\tFemale mentions: 5\n"
          ],
          "name": "stdout"
        }
      ]
    },
    {
      "cell_type": "code",
      "metadata": {
        "colab": {
          "base_uri": "https://localhost:8080/"
        },
        "id": "xkCUcrIJtWrW",
        "outputId": "ace9e8b2-9b8d-4aba-9fbe-c763cda12d9d"
      },
      "source": [
        "print(\"Overall:\")\n",
        "overall_precision = (pipe_ann_total / pipe_total) * 100\n",
        "print(\"\\tPrecision: %.2f%%\" % overall_precision)\n",
        "overall_recall = (pipe_ann_total / ann_total) * 100\n",
        "print(\"\\tRecall: %.2f%%\" % overall_recall)\n",
        "overall_f = (2 * overall_precision * overall_recall) / (overall_precision + overall_recall)\n",
        "print(\"\\tF-score: %.2f%%\" % overall_f)\n",
        "print()\n",
        "print(\"Male:\")\n",
        "male_precision = (pipe_ann_male / pipe_male) * 100\n",
        "print(\"\\tPrecision: %.2f%%\" % male_precision)\n",
        "male_recall = (pipe_ann_male / ann_male) * 100\n",
        "print(\"\\tRecall: %.2f%%\" % male_recall)\n",
        "male_f = (2 * male_precision * male_recall) / (male_precision + male_recall)\n",
        "print(\"\\tF-score: %.2f%%\" % male_f)\n",
        "print()\n",
        "print(\"Female:\")\n",
        "female_precision = (pipe_ann_female / pipe_female) * 100\n",
        "print(\"\\tPrecision: %.2f%%\" % female_precision)\n",
        "female_recall = (pipe_ann_female / ann_female) * 100\n",
        "print(\"\\tRecall: %.2f%%\" % female_recall)\n",
        "female_f = (2 * female_precision * female_recall) / (female_precision + female_recall)\n",
        "print(\"\\tF-score: %.2f%%\" % female_f)"
      ],
      "execution_count": 107,
      "outputs": [
        {
          "output_type": "stream",
          "text": [
            "Overall:\n",
            "\tPrecision: 51.81%\n",
            "\tRecall: 15.81%\n",
            "\tF-score: 24.23%\n",
            "\n",
            "Male:\n",
            "\tPrecision: 90.24%\n",
            "\tRecall: 56.92%\n",
            "\tF-score: 69.81%\n",
            "\n",
            "Female:\n",
            "\tPrecision: 35.71%\n",
            "\tRecall: 45.45%\n",
            "\tF-score: 40.00%\n"
          ],
          "name": "stdout"
        }
      ]
    },
    {
      "cell_type": "markdown",
      "metadata": {
        "id": "gH_08yvD6hsf"
      },
      "source": [
        "## Gendered person-mention coref evaluations"
      ]
    },
    {
      "cell_type": "code",
      "metadata": {
        "id": "HHRly7wi7VjT"
      },
      "source": [
        ""
      ],
      "execution_count": null,
      "outputs": []
    }
  ]
}