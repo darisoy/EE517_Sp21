{
  "nbformat": 4,
  "nbformat_minor": 0,
  "metadata": {
    "accelerator": "GPU",
    "colab": {
      "name": "EE517: HW3.ipynb",
      "provenance": [],
      "collapsed_sections": [],
      "include_colab_link": true
    },
    "kernelspec": {
      "display_name": "Python 3",
      "language": "python",
      "name": "python3"
    },
    "language_info": {
      "codemirror_mode": {
        "name": "ipython",
        "version": 3
      },
      "file_extension": ".py",
      "mimetype": "text/x-python",
      "name": "python",
      "nbconvert_exporter": "python",
      "pygments_lexer": "ipython3",
      "version": "3.7.0"
    },
    "widgets": {
      "application/vnd.jupyter.widget-state+json": {
        "220c60bf62ff4e2dbe45da21bee18cbc": {
          "model_module": "@jupyter-widgets/controls",
          "model_name": "HBoxModel",
          "state": {
            "_view_name": "HBoxView",
            "_dom_classes": [],
            "_model_name": "HBoxModel",
            "_view_module": "@jupyter-widgets/controls",
            "_model_module_version": "1.5.0",
            "_view_count": null,
            "_view_module_version": "1.5.0",
            "box_style": "",
            "layout": "IPY_MODEL_6204a1dd26664ddd9b98cc419775d9a3",
            "_model_module": "@jupyter-widgets/controls",
            "children": [
              "IPY_MODEL_f2c91f9d4fe1449a82432504690f3f9f",
              "IPY_MODEL_c7e5009df72745d2a4c219d917bc63bb"
            ]
          }
        },
        "6204a1dd26664ddd9b98cc419775d9a3": {
          "model_module": "@jupyter-widgets/base",
          "model_name": "LayoutModel",
          "state": {
            "_view_name": "LayoutView",
            "grid_template_rows": null,
            "right": null,
            "justify_content": null,
            "_view_module": "@jupyter-widgets/base",
            "overflow": null,
            "_model_module_version": "1.2.0",
            "_view_count": null,
            "flex_flow": null,
            "width": null,
            "min_width": null,
            "border": null,
            "align_items": null,
            "bottom": null,
            "_model_module": "@jupyter-widgets/base",
            "top": null,
            "grid_column": null,
            "overflow_y": null,
            "overflow_x": null,
            "grid_auto_flow": null,
            "grid_area": null,
            "grid_template_columns": null,
            "flex": null,
            "_model_name": "LayoutModel",
            "justify_items": null,
            "grid_row": null,
            "max_height": null,
            "align_content": null,
            "visibility": null,
            "align_self": null,
            "height": null,
            "min_height": null,
            "padding": null,
            "grid_auto_rows": null,
            "grid_gap": null,
            "max_width": null,
            "order": null,
            "_view_module_version": "1.2.0",
            "grid_template_areas": null,
            "object_position": null,
            "object_fit": null,
            "grid_auto_columns": null,
            "margin": null,
            "display": null,
            "left": null
          }
        },
        "f2c91f9d4fe1449a82432504690f3f9f": {
          "model_module": "@jupyter-widgets/controls",
          "model_name": "FloatProgressModel",
          "state": {
            "_view_name": "ProgressView",
            "style": "IPY_MODEL_4f183550b42a438b9f5d14240ed36a85",
            "_dom_classes": [],
            "description": "100%",
            "_model_name": "FloatProgressModel",
            "bar_style": "success",
            "max": 10,
            "_view_module": "@jupyter-widgets/controls",
            "_model_module_version": "1.5.0",
            "value": 10,
            "_view_count": null,
            "_view_module_version": "1.5.0",
            "orientation": "horizontal",
            "min": 0,
            "description_tooltip": null,
            "_model_module": "@jupyter-widgets/controls",
            "layout": "IPY_MODEL_831f4c8136cc4e0f82088f38022d5c72"
          }
        },
        "c7e5009df72745d2a4c219d917bc63bb": {
          "model_module": "@jupyter-widgets/controls",
          "model_name": "HTMLModel",
          "state": {
            "_view_name": "HTMLView",
            "style": "IPY_MODEL_c8e02abe6cb3480f89ef1befb025a451",
            "_dom_classes": [],
            "description": "",
            "_model_name": "HTMLModel",
            "placeholder": "​",
            "_view_module": "@jupyter-widgets/controls",
            "_model_module_version": "1.5.0",
            "value": " 10/10 [06:14&lt;00:00, 37.49s/it]",
            "_view_count": null,
            "_view_module_version": "1.5.0",
            "description_tooltip": null,
            "_model_module": "@jupyter-widgets/controls",
            "layout": "IPY_MODEL_5804e83b24e6453bb3b9bb2b908998fb"
          }
        },
        "4f183550b42a438b9f5d14240ed36a85": {
          "model_module": "@jupyter-widgets/controls",
          "model_name": "ProgressStyleModel",
          "state": {
            "_view_name": "StyleView",
            "_model_name": "ProgressStyleModel",
            "description_width": "initial",
            "_view_module": "@jupyter-widgets/base",
            "_model_module_version": "1.5.0",
            "_view_count": null,
            "_view_module_version": "1.2.0",
            "bar_color": null,
            "_model_module": "@jupyter-widgets/controls"
          }
        },
        "831f4c8136cc4e0f82088f38022d5c72": {
          "model_module": "@jupyter-widgets/base",
          "model_name": "LayoutModel",
          "state": {
            "_view_name": "LayoutView",
            "grid_template_rows": null,
            "right": null,
            "justify_content": null,
            "_view_module": "@jupyter-widgets/base",
            "overflow": null,
            "_model_module_version": "1.2.0",
            "_view_count": null,
            "flex_flow": null,
            "width": null,
            "min_width": null,
            "border": null,
            "align_items": null,
            "bottom": null,
            "_model_module": "@jupyter-widgets/base",
            "top": null,
            "grid_column": null,
            "overflow_y": null,
            "overflow_x": null,
            "grid_auto_flow": null,
            "grid_area": null,
            "grid_template_columns": null,
            "flex": null,
            "_model_name": "LayoutModel",
            "justify_items": null,
            "grid_row": null,
            "max_height": null,
            "align_content": null,
            "visibility": null,
            "align_self": null,
            "height": null,
            "min_height": null,
            "padding": null,
            "grid_auto_rows": null,
            "grid_gap": null,
            "max_width": null,
            "order": null,
            "_view_module_version": "1.2.0",
            "grid_template_areas": null,
            "object_position": null,
            "object_fit": null,
            "grid_auto_columns": null,
            "margin": null,
            "display": null,
            "left": null
          }
        },
        "c8e02abe6cb3480f89ef1befb025a451": {
          "model_module": "@jupyter-widgets/controls",
          "model_name": "DescriptionStyleModel",
          "state": {
            "_view_name": "StyleView",
            "_model_name": "DescriptionStyleModel",
            "description_width": "",
            "_view_module": "@jupyter-widgets/base",
            "_model_module_version": "1.5.0",
            "_view_count": null,
            "_view_module_version": "1.2.0",
            "_model_module": "@jupyter-widgets/controls"
          }
        },
        "5804e83b24e6453bb3b9bb2b908998fb": {
          "model_module": "@jupyter-widgets/base",
          "model_name": "LayoutModel",
          "state": {
            "_view_name": "LayoutView",
            "grid_template_rows": null,
            "right": null,
            "justify_content": null,
            "_view_module": "@jupyter-widgets/base",
            "overflow": null,
            "_model_module_version": "1.2.0",
            "_view_count": null,
            "flex_flow": null,
            "width": null,
            "min_width": null,
            "border": null,
            "align_items": null,
            "bottom": null,
            "_model_module": "@jupyter-widgets/base",
            "top": null,
            "grid_column": null,
            "overflow_y": null,
            "overflow_x": null,
            "grid_auto_flow": null,
            "grid_area": null,
            "grid_template_columns": null,
            "flex": null,
            "_model_name": "LayoutModel",
            "justify_items": null,
            "grid_row": null,
            "max_height": null,
            "align_content": null,
            "visibility": null,
            "align_self": null,
            "height": null,
            "min_height": null,
            "padding": null,
            "grid_auto_rows": null,
            "grid_gap": null,
            "max_width": null,
            "order": null,
            "_view_module_version": "1.2.0",
            "grid_template_areas": null,
            "object_position": null,
            "object_fit": null,
            "grid_auto_columns": null,
            "margin": null,
            "display": null,
            "left": null
          }
        }
      }
    }
  },
  "cells": [
    {
      "cell_type": "markdown",
      "metadata": {
        "id": "view-in-github",
        "colab_type": "text"
      },
      "source": [
        "<a href=\"https://colab.research.google.com/github/darisoy/EE517_Sp21/blob/master/hw3/hw3.ipynb\" target=\"_parent\"><img src=\"https://colab.research.google.com/assets/colab-badge.svg\" alt=\"Open In Colab\"/></a>"
      ]
    },
    {
      "cell_type": "code",
      "metadata": {
        "colab": {
          "base_uri": "https://localhost:8080/"
        },
        "id": "rzsOPfQRQGfa",
        "outputId": "2f0c9a16-7e61-420b-fbd5-863fddf8bd7d"
      },
      "source": [
        "#!pip install sentencepiece\n",
        "!pip install transformers"
      ],
      "execution_count": 2,
      "outputs": [
        {
          "output_type": "stream",
          "text": [
            "Collecting transformers\n",
            "\u001b[?25l  Downloading https://files.pythonhosted.org/packages/d8/b2/57495b5309f09fa501866e225c84532d1fd89536ea62406b2181933fb418/transformers-4.5.1-py3-none-any.whl (2.1MB)\n",
            "\u001b[K     |████████████████████████████████| 2.1MB 18.9MB/s \n",
            "\u001b[?25hRequirement already satisfied: importlib-metadata; python_version < \"3.8\" in /usr/local/lib/python3.7/dist-packages (from transformers) (3.10.1)\n",
            "Requirement already satisfied: numpy>=1.17 in /usr/local/lib/python3.7/dist-packages (from transformers) (1.19.5)\n",
            "Collecting tokenizers<0.11,>=0.10.1\n",
            "\u001b[?25l  Downloading https://files.pythonhosted.org/packages/ae/04/5b870f26a858552025a62f1649c20d29d2672c02ff3c3fb4c688ca46467a/tokenizers-0.10.2-cp37-cp37m-manylinux2010_x86_64.whl (3.3MB)\n",
            "\u001b[K     |████████████████████████████████| 3.3MB 53.7MB/s \n",
            "\u001b[?25hRequirement already satisfied: filelock in /usr/local/lib/python3.7/dist-packages (from transformers) (3.0.12)\n",
            "Requirement already satisfied: requests in /usr/local/lib/python3.7/dist-packages (from transformers) (2.23.0)\n",
            "Requirement already satisfied: packaging in /usr/local/lib/python3.7/dist-packages (from transformers) (20.9)\n",
            "Requirement already satisfied: regex!=2019.12.17 in /usr/local/lib/python3.7/dist-packages (from transformers) (2019.12.20)\n",
            "Collecting sacremoses\n",
            "\u001b[?25l  Downloading https://files.pythonhosted.org/packages/75/ee/67241dc87f266093c533a2d4d3d69438e57d7a90abb216fa076e7d475d4a/sacremoses-0.0.45-py3-none-any.whl (895kB)\n",
            "\u001b[K     |████████████████████████████████| 901kB 53.6MB/s \n",
            "\u001b[?25hRequirement already satisfied: tqdm>=4.27 in /usr/local/lib/python3.7/dist-packages (from transformers) (4.41.1)\n",
            "Requirement already satisfied: typing-extensions>=3.6.4; python_version < \"3.8\" in /usr/local/lib/python3.7/dist-packages (from importlib-metadata; python_version < \"3.8\"->transformers) (3.7.4.3)\n",
            "Requirement already satisfied: zipp>=0.5 in /usr/local/lib/python3.7/dist-packages (from importlib-metadata; python_version < \"3.8\"->transformers) (3.4.1)\n",
            "Requirement already satisfied: idna<3,>=2.5 in /usr/local/lib/python3.7/dist-packages (from requests->transformers) (2.10)\n",
            "Requirement already satisfied: chardet<4,>=3.0.2 in /usr/local/lib/python3.7/dist-packages (from requests->transformers) (3.0.4)\n",
            "Requirement already satisfied: urllib3!=1.25.0,!=1.25.1,<1.26,>=1.21.1 in /usr/local/lib/python3.7/dist-packages (from requests->transformers) (1.24.3)\n",
            "Requirement already satisfied: certifi>=2017.4.17 in /usr/local/lib/python3.7/dist-packages (from requests->transformers) (2020.12.5)\n",
            "Requirement already satisfied: pyparsing>=2.0.2 in /usr/local/lib/python3.7/dist-packages (from packaging->transformers) (2.4.7)\n",
            "Requirement already satisfied: six in /usr/local/lib/python3.7/dist-packages (from sacremoses->transformers) (1.15.0)\n",
            "Requirement already satisfied: click in /usr/local/lib/python3.7/dist-packages (from sacremoses->transformers) (7.1.2)\n",
            "Requirement already satisfied: joblib in /usr/local/lib/python3.7/dist-packages (from sacremoses->transformers) (1.0.1)\n",
            "Installing collected packages: tokenizers, sacremoses, transformers\n",
            "Successfully installed sacremoses-0.0.45 tokenizers-0.10.2 transformers-4.5.1\n"
          ],
          "name": "stdout"
        }
      ]
    },
    {
      "cell_type": "code",
      "metadata": {
        "id": "SKHw2uxSPksV"
      },
      "source": [
        "import numpy as np\n",
        "import pandas as pd\n",
        "import math\n",
        "import torch\n",
        "from tqdm.notebook import tqdm\n",
        "import pickle\n",
        "from torch.utils.data import TensorDataset, DataLoader\n",
        "from transformers import DistilBertTokenizer, DistilBertModel\n",
        "from sklearn.metrics import accuracy_score\n",
        "from sklearn.linear_model import LogisticRegression\n",
        "from sklearn.metrics import accuracy_score\n",
        "import matplotlib.pyplot as plt\n",
        "from sklearn.preprocessing import OneHotEncoder\n",
        "device = torch.device(\"cuda\" if torch.cuda.is_available() else \"cpu\")"
      ],
      "execution_count": 3,
      "outputs": []
    },
    {
      "cell_type": "markdown",
      "metadata": {
        "id": "t7EpasiPPksV"
      },
      "source": [
        "### Load and check the data"
      ]
    },
    {
      "cell_type": "code",
      "metadata": {
        "id": "LiwHKnN7u_MH"
      },
      "source": [
        "# not being used on this notebook\n",
        "labels = {'O' : 0,\n",
        "          'B-geo-loc' : 1,\n",
        "          'I-geo-loc' : 2,\n",
        "          'B-product' : 3,\n",
        "          'I-product' : 4,\n",
        "          'B-facility' : 5,\n",
        "          'I-facility' : 6,\n",
        "          'B-company' : 7,\n",
        "          'I-company' : 8,\n",
        "          'B-person' : 9,\n",
        "          'I-person' : 10,\n",
        "          'B-sportsteam' : 11,\n",
        "          'I-sportsteam' : 12,\n",
        "          'B-musicartist' : 13,\n",
        "          'I-musicartist' : 14,\n",
        "          'B-movie' : 15,\n",
        "          'I-movie' : 16,\n",
        "          'B-facility' : 17,\n",
        "          'I-facility' : 18,\n",
        "          'B-other' : 19,\n",
        "          'I-other' : 20,\n",
        "          }"
      ],
      "execution_count": null,
      "outputs": []
    },
    {
      "cell_type": "code",
      "metadata": {
        "id": "8H-4YqDYTTeG"
      },
      "source": [
        "def one_hot(df):\n",
        "    column = np.array(df.tag).reshape(-1, 1)\n",
        "    enc = OneHotEncoder()\n",
        "    enc.fit(column)\n",
        "    # tags_matrix = enc.transform(column).toarray()\n",
        "    df[\"tag\"] = enc.transform(column).toarray().tolist()\n",
        "    return df\n",
        "\n",
        "def get_sentences(df):\n",
        "    sentences = []\n",
        "    labels = []\n",
        "\n",
        "    running_sentence = ['<BEG>']\n",
        "    runnnig_label = [[0.0, 0.0, 0.0, 0.0, 0.0, 0.0, 0.0, 0.0, 0.0, 0.0, 0.0, 0.0, 0.0, 0.0, 0.0, 0.0, 0.0, 0.0, 0.0, 0.0, 1.0]]\n",
        "    for idx, row in df.iterrows():\n",
        "        running_sentence.append(row.word)\n",
        "        runnnig_label.append(row.tag)\n",
        "        if row.word == '<END>':\n",
        "            sentences.append(running_sentence)\n",
        "            labels.append(runnnig_label)\n",
        "\n",
        "            running_sentence = ['<BEG>']\n",
        "            runnnig_label = [[0.0, 0.0, 0.0, 0.0, 0.0, 0.0, 0.0, 0.0, 0.0, 0.0, 0.0, 0.0, 0.0, 0.0, 0.0, 0.0, 0.0, 0.0, 0.0, 0.0, 1.0]]\n",
        "\n",
        "    return sentences, labels\n",
        "\n",
        "def get_data(type):\n",
        "    data = pd.read_csv('https://raw.githubusercontent.com/aritter/twitter_nlp/master/data/annotated/wnut16/data/' + type, delimiter='\\t', names=[\"word\", \"tag\"], skip_blank_lines=False, quoting=3)\n",
        "    data = data.fillna({'word': '<END>', 'tag': 'O'})\n",
        "    data = one_hot(data)\n",
        "    return get_sentences(data)"
      ],
      "execution_count": 65,
      "outputs": []
    },
    {
      "cell_type": "code",
      "metadata": {
        "id": "WMjqPZWDPksW"
      },
      "source": [
        "train_sentences, train_tags = get_data('train')\n",
        "valid_sentences, valid_tags = get_data('dev')\n",
        "test_sentences, test_tags = get_data('test')"
      ],
      "execution_count": 66,
      "outputs": []
    },
    {
      "cell_type": "code",
      "metadata": {
        "colab": {
          "base_uri": "https://localhost:8080/"
        },
        "id": "HrRVDE8ePksX",
        "outputId": "b630e10a-0c1b-4f91-d343-f71a01c759f8"
      },
      "source": [
        "print(\"Training data: \", len(train_sentences))\n",
        "print(\"Dev data: \", len(valid_sentences))\n",
        "print(\"Test data: \", len(test_sentences))"
      ],
      "execution_count": 68,
      "outputs": [
        {
          "output_type": "stream",
          "text": [
            "Training data:  2394\n",
            "Dev data:  1005\n",
            "Test data:  3878\n"
          ],
          "name": "stdout"
        }
      ]
    },
    {
      "cell_type": "markdown",
      "metadata": {
        "id": "rHxHvquJPksX"
      },
      "source": [
        "### Load the model"
      ]
    },
    {
      "cell_type": "code",
      "metadata": {
        "id": "ZLkUmk7MPksY"
      },
      "source": [
        "model_name = \"distilbert-base-uncased\"\n",
        "model = DistilBertModel.from_pretrained(model_name)\n",
        "tokenizer = DistilBertTokenizer.from_pretrained(model_name)"
      ],
      "execution_count": 69,
      "outputs": []
    },
    {
      "cell_type": "markdown",
      "metadata": {
        "id": "V7-zKa87PksY"
      },
      "source": [
        "### Preprocessing before sending to the model"
      ]
    },
    {
      "cell_type": "code",
      "metadata": {
        "id": "sH8POHy5PksY"
      },
      "source": [
        "def get_max_len(tokenized):\n",
        "    max_len = 0\n",
        "    for i in tokenized.values:\n",
        "        if len(i) > max_len:\n",
        "            max_len = len(i)\n",
        "    return max_len"
      ],
      "execution_count": 70,
      "outputs": []
    },
    {
      "cell_type": "code",
      "metadata": {
        "id": "EVMiI8XyPksZ",
        "colab": {
          "base_uri": "https://localhost:8080/",
          "height": 281
        },
        "outputId": "e58ec1f6-3769-4c99-8819-028f7de2491f"
      },
      "source": [
        "# This turns every word into the list of ids\n",
        "tokenized_train = train_sentences.apply((lambda x: tokenizer.encode(x, add_special_tokens=True)))\n",
        "tokenized_valid = valid_sentences.word.apply((lambda x: tokenizer.encode(x, add_special_tokens=True)))\n",
        "tokenized_test = test_sentences.apply((lambda x: tokenizer.encode(x, add_special_tokens=True)))"
      ],
      "execution_count": 72,
      "outputs": [
        {
          "output_type": "error",
          "ename": "AttributeError",
          "evalue": "ignored",
          "traceback": [
            "\u001b[0;31m---------------------------------------------------------------------------\u001b[0m",
            "\u001b[0;31mAttributeError\u001b[0m                            Traceback (most recent call last)",
            "\u001b[0;32m<ipython-input-72-3de673635c32>\u001b[0m in \u001b[0;36m<module>\u001b[0;34m()\u001b[0m\n\u001b[1;32m      1\u001b[0m \u001b[0;31m# This turns every word into the list of ids\u001b[0m\u001b[0;34m\u001b[0m\u001b[0;34m\u001b[0m\u001b[0;34m\u001b[0m\u001b[0m\n\u001b[0;32m----> 2\u001b[0;31m \u001b[0mtokenized_train\u001b[0m \u001b[0;34m=\u001b[0m \u001b[0mtrain_sentences\u001b[0m\u001b[0;34m.\u001b[0m\u001b[0mapply\u001b[0m\u001b[0;34m(\u001b[0m\u001b[0;34m(\u001b[0m\u001b[0;32mlambda\u001b[0m \u001b[0mx\u001b[0m\u001b[0;34m:\u001b[0m \u001b[0mtokenizer\u001b[0m\u001b[0;34m.\u001b[0m\u001b[0mencode\u001b[0m\u001b[0;34m(\u001b[0m\u001b[0mx\u001b[0m\u001b[0;34m,\u001b[0m \u001b[0madd_special_tokens\u001b[0m\u001b[0;34m=\u001b[0m\u001b[0;32mTrue\u001b[0m\u001b[0;34m)\u001b[0m\u001b[0;34m)\u001b[0m\u001b[0;34m)\u001b[0m\u001b[0;34m\u001b[0m\u001b[0;34m\u001b[0m\u001b[0m\n\u001b[0m\u001b[1;32m      3\u001b[0m \u001b[0mtokenized_valid\u001b[0m \u001b[0;34m=\u001b[0m \u001b[0mvalid_sentences\u001b[0m\u001b[0;34m.\u001b[0m\u001b[0mword\u001b[0m\u001b[0;34m.\u001b[0m\u001b[0mapply\u001b[0m\u001b[0;34m(\u001b[0m\u001b[0;34m(\u001b[0m\u001b[0;32mlambda\u001b[0m \u001b[0mx\u001b[0m\u001b[0;34m:\u001b[0m \u001b[0mtokenizer\u001b[0m\u001b[0;34m.\u001b[0m\u001b[0mencode\u001b[0m\u001b[0;34m(\u001b[0m\u001b[0mx\u001b[0m\u001b[0;34m,\u001b[0m \u001b[0madd_special_tokens\u001b[0m\u001b[0;34m=\u001b[0m\u001b[0;32mTrue\u001b[0m\u001b[0;34m)\u001b[0m\u001b[0;34m)\u001b[0m\u001b[0;34m)\u001b[0m\u001b[0;34m\u001b[0m\u001b[0;34m\u001b[0m\u001b[0m\n\u001b[1;32m      4\u001b[0m \u001b[0mtokenized_test\u001b[0m \u001b[0;34m=\u001b[0m \u001b[0mtest_sentences\u001b[0m\u001b[0;34m.\u001b[0m\u001b[0mapply\u001b[0m\u001b[0;34m(\u001b[0m\u001b[0;34m(\u001b[0m\u001b[0;32mlambda\u001b[0m \u001b[0mx\u001b[0m\u001b[0;34m:\u001b[0m \u001b[0mtokenizer\u001b[0m\u001b[0;34m.\u001b[0m\u001b[0mencode\u001b[0m\u001b[0;34m(\u001b[0m\u001b[0mx\u001b[0m\u001b[0;34m,\u001b[0m \u001b[0madd_special_tokens\u001b[0m\u001b[0;34m=\u001b[0m\u001b[0;32mTrue\u001b[0m\u001b[0;34m)\u001b[0m\u001b[0;34m)\u001b[0m\u001b[0;34m)\u001b[0m\u001b[0;34m\u001b[0m\u001b[0;34m\u001b[0m\u001b[0m\n",
            "\u001b[0;31mAttributeError\u001b[0m: 'list' object has no attribute 'apply'"
          ]
        }
      ]
    },
    {
      "cell_type": "code",
      "metadata": {
        "colab": {
          "base_uri": "https://localhost:8080/"
        },
        "id": "mIT1WigDl9u9",
        "outputId": "182685bf-a0ff-427d-df92-05865c6a20c7"
      },
      "source": [
        "tokenized_train[0]"
      ],
      "execution_count": 29,
      "outputs": [
        {
          "output_type": "execute_result",
          "data": {
            "text/plain": [
              "[101, 1030, 3520, 9856, 27610, 25855, 2213, 102]"
            ]
          },
          "metadata": {
            "tags": []
          },
          "execution_count": 29
        }
      ]
    },
    {
      "cell_type": "code",
      "metadata": {
        "colab": {
          "base_uri": "https://localhost:8080/"
        },
        "id": "guRmd6pFPksZ",
        "outputId": "2e726826-7e63-4ffc-9e56-0352d15188fc"
      },
      "source": [
        "# Padding\n",
        "max_len = max(get_max_len(tokenized_train), get_max_len(tokenized_valid), get_max_len(tokenized_test))\n",
        "padded_train = np.array([i + [0]*(max_len-len(i)) for i in tokenized_train.values])\n",
        "padded_valid = np.array([i + [0]*(max_len-len(i)) for i in tokenized_valid.values])\n",
        "padded_test = np.array([i + [0]*(max_len-len(i)) for i in tokenized_test.values])\n",
        "\n",
        "print(\"Padded shape (train): \", np.array(padded_train).shape)\n",
        "print(\"Padded shape (valid): \", np.array(padded_valid).shape)\n",
        "print(\"Padded shape (test): \", np.array(padded_test).shape)"
      ],
      "execution_count": 26,
      "outputs": [
        {
          "output_type": "stream",
          "text": [
            "Padded shape (train):  (39588, 3077)\n",
            "Padded shape (valid):  (15310, 3077)\n",
            "Padded shape (test):  (51865, 3077)\n"
          ],
          "name": "stdout"
        }
      ]
    },
    {
      "cell_type": "code",
      "metadata": {
        "id": "Hwy7aonzPksZ"
      },
      "source": [
        "# Tell BERT to ignore padding\n",
        "attention_mask_train = np.where(padded_train != 0, 1, 0)\n",
        "attention_mask_valid = np.where(padded_dev != 0, 1, 0)\n",
        "attention_mask_valid = np.where(padded_dev != 0, 1, 0)"
      ],
      "execution_count": null,
      "outputs": []
    },
    {
      "cell_type": "code",
      "metadata": {
        "id": "nSGVE3-NDrAE"
      },
      "source": [
        "label_train_orig = df_train['label'].to_numpy()\n",
        "label_dev_orig = df_dev['label'].to_numpy()"
      ],
      "execution_count": null,
      "outputs": []
    },
    {
      "cell_type": "code",
      "metadata": {
        "id": "F807xwX6S43x"
      },
      "source": [
        "# create Tensor datasets\n",
        "train_data = TensorDataset(torch.from_numpy(padded_train), torch.from_numpy(attention_mask_train), torch.from_numpy(label_train_orig))\n",
        "valid_data = TensorDataset(torch.from_numpy(padded_dev), torch.from_numpy(attention_mask_dev), torch.from_numpy(label_dev_orig))\n",
        "\n",
        "# dataloaders\n",
        "batch_size = 64\n",
        "\n",
        "# make sure to SHUFFLE your data\n",
        "train_loader = DataLoader(train_data, shuffle=True, batch_size=batch_size)\n",
        "valid_loader = DataLoader(valid_data, shuffle=False, batch_size=batch_size)"
      ],
      "execution_count": null,
      "outputs": []
    },
    {
      "cell_type": "code",
      "metadata": {
        "colab": {
          "base_uri": "https://localhost:8080/"
        },
        "id": "BZHWqCPdTBH2",
        "outputId": "f65a965e-573f-4448-cd5e-f26ad29004da"
      },
      "source": [
        "# obtain one batch of training data\n",
        "dataiter = iter(train_loader)\n",
        "sample_x, sample_mask_x, sample_y = dataiter.next()\n",
        "\n",
        "print('Sample input size: ', sample_x.size()) # batch_size, seq_length\n",
        "print('Sample input: \\n', sample_x)\n",
        "print()\n",
        "print('Sample input mask size: ', sample_mask_x.size()) # batch_size, seq_length\n",
        "print('Sample input mask: \\n', sample_mask_x)\n",
        "print()\n",
        "print('Sample label size: ', sample_y.size()) # batch_size\n",
        "print('Sample label: \\n', sample_y)"
      ],
      "execution_count": null,
      "outputs": [
        {
          "output_type": "stream",
          "text": [
            "Sample input size:  torch.Size([64, 66])\n",
            "Sample input: \n",
            " tensor([[  101,  6361,  2062,  ...,     0,     0,     0],\n",
            "        [  101,  3005,  2806,  ...,     0,     0,     0],\n",
            "        [  101,  2022,  2178,  ...,     0,     0,     0],\n",
            "        ...,\n",
            "        [  101,  1997, 26452,  ...,     0,     0,     0],\n",
            "        [  101,  2008,  3248,  ...,     0,     0,     0],\n",
            "        [  101, 12246,  2058,  ...,     0,     0,     0]])\n",
            "\n",
            "Sample input mask size:  torch.Size([64, 66])\n",
            "Sample input mask: \n",
            " tensor([[1, 1, 1,  ..., 0, 0, 0],\n",
            "        [1, 1, 1,  ..., 0, 0, 0],\n",
            "        [1, 1, 1,  ..., 0, 0, 0],\n",
            "        ...,\n",
            "        [1, 1, 1,  ..., 0, 0, 0],\n",
            "        [1, 1, 1,  ..., 0, 0, 0],\n",
            "        [1, 1, 1,  ..., 0, 0, 0]])\n",
            "\n",
            "Sample label size:  torch.Size([64])\n",
            "Sample label: \n",
            " tensor([1, 1, 0, 0, 1, 1, 1, 1, 1, 1, 0, 1, 0, 1, 1, 0, 1, 0, 0, 1, 0, 0, 0, 1,\n",
            "        1, 0, 1, 0, 0, 1, 0, 1, 1, 1, 1, 0, 0, 1, 0, 0, 0, 0, 0, 1, 1, 0, 0, 1,\n",
            "        0, 1, 1, 1, 0, 0, 1, 0, 0, 1, 0, 1, 1, 1, 0, 0])\n"
          ],
          "name": "stdout"
        }
      ]
    },
    {
      "cell_type": "markdown",
      "metadata": {
        "id": "A-7aohfNPksa"
      },
      "source": [
        "### Using BERT to encode"
      ]
    },
    {
      "cell_type": "code",
      "metadata": {
        "id": "ZmtU-RqtPksa"
      },
      "source": [
        "def get_embeddings(target_loader):\n",
        "\n",
        "    model.eval()\n",
        "    model.to(device)\n",
        "\n",
        "    all_embed = []\n",
        "    all_label = []\n",
        "\n",
        "    for sample, sample_mask, label in target_loader:\n",
        "        with torch.no_grad():\n",
        "            sample, sample_mask = sample.to(device), sample_mask.to(device)\n",
        "            last_hidden_states = model(sample, attention_mask=sample_mask)\n",
        "            # get all sentences, all hidden unit outputs, at [CLS] (if output hidden state)\n",
        "            all_embed.append(last_hidden_states[0][:,0,:])\n",
        "            all_label.append(label)\n",
        "\n",
        "    return torch.cat(all_embed,dim =0), torch.cat(all_label)"
      ],
      "execution_count": null,
      "outputs": []
    },
    {
      "cell_type": "code",
      "metadata": {
        "id": "o8queiso6Srq"
      },
      "source": [
        "train_embed, train_label = get_embeddings(train_loader)\n",
        "dev_embed, dev_label = get_embeddings(valid_loader)"
      ],
      "execution_count": null,
      "outputs": []
    },
    {
      "cell_type": "code",
      "metadata": {
        "id": "nDEOVNd2Pksb",
        "colab": {
          "base_uri": "https://localhost:8080/"
        },
        "outputId": "fbff4ee8-6ea6-4fb4-a7a4-682eff9a8ff2"
      },
      "source": [
        "train_embed = train_embed.cpu().numpy()\n",
        "dev_embed = dev_embed.cpu().numpy()\n",
        "print(\"train features and labels: \", train_embed.shape, train_label.shape)\n",
        "print(\"dev features and labels: \", dev_embed.shape, dev_label.shape)"
      ],
      "execution_count": null,
      "outputs": [
        {
          "output_type": "stream",
          "text": [
            "train features and labels:  (67349, 768) torch.Size([67349])\n",
            "dev features and labels:  (872, 768) torch.Size([872])\n"
          ],
          "name": "stdout"
        }
      ]
    },
    {
      "cell_type": "code",
      "metadata": {
        "id": "a5bEBrYoqMHZ"
      },
      "source": [
        "bert_embeddings = [train_embed, train_label, dev_embed, dev_label]"
      ],
      "execution_count": null,
      "outputs": []
    },
    {
      "cell_type": "code",
      "metadata": {
        "id": "BXm3xLKyBLIM"
      },
      "source": [
        "\n",
        "# Instead of taking a long time get the embeddings again, we save them\n",
        "with open('/content/drive/MyDrive/SST-2/ee517_hw2_bert_embeddings.data', 'wb') as data_save:\n",
        "    # store the data as binary data stream\n",
        "    pickle.dump(bert_embeddings, data_save)"
      ],
      "execution_count": null,
      "outputs": []
    },
    {
      "cell_type": "markdown",
      "metadata": {
        "id": "IjA2_PMlBLoz"
      },
      "source": [
        "### Logistic Regression Classifier on top of BERT"
      ]
    },
    {
      "cell_type": "code",
      "metadata": {
        "id": "F5tQLRhmqXvw"
      },
      "source": [
        "# Now we can just load the embeddings\n",
        "with open('/content/drive/MyDrive/SST-2/ee517_hw2_bert_embeddings.data', 'rb') as filehandle:\n",
        "    # read the data as binary data stream\n",
        "    train_embed, train_label, dev_embed, dev_label = np.array(pickle.load(filehandle), dtype=object)"
      ],
      "execution_count": null,
      "outputs": []
    },
    {
      "cell_type": "code",
      "metadata": {
        "id": "S_QTfrW0LFHs"
      },
      "source": [
        "# Set random seed for reproducibility\n",
        "np.random.seed(12345)\n",
        "\n",
        "# Sample for validation indices\n",
        "num_validation = round(1/10 * len(train_label))\n",
        "sample_idx = np.random.choice(len(train_label), size = num_validation , replace=False)\n",
        "val_embed = train_embed[sample_idx]\n",
        "val_label = np.array(train_label)[sample_idx]\n",
        "\n",
        "# Keep the rest for training \n",
        "train_idx = np.array(list(filter(lambda x: x not in sample_idx, range(len(train_label)))))\n",
        "train_embed = train_embed[train_idx]\n",
        "train_label = np.array(train_label)[train_idx]"
      ],
      "execution_count": null,
      "outputs": []
    },
    {
      "cell_type": "markdown",
      "metadata": {
        "id": "Xnxx14Y_MJ4e"
      },
      "source": [
        "We use the logistic regression classifier, and choose the hyperparameter C based on the development set. C is the inverse of regularization strength. It must be a positive float, where smaller values specify stronger regularization. "
      ]
    },
    {
      "cell_type": "code",
      "metadata": {
        "id": "YNPySPYtEwaD",
        "colab": {
          "base_uri": "https://localhost:8080/",
          "height": 406,
          "referenced_widgets": [
            "220c60bf62ff4e2dbe45da21bee18cbc",
            "6204a1dd26664ddd9b98cc419775d9a3",
            "f2c91f9d4fe1449a82432504690f3f9f",
            "c7e5009df72745d2a4c219d917bc63bb",
            "4f183550b42a438b9f5d14240ed36a85",
            "831f4c8136cc4e0f82088f38022d5c72",
            "c8e02abe6cb3480f89ef1befb025a451",
            "5804e83b24e6453bb3b9bb2b908998fb"
          ]
        },
        "outputId": "8cb0af73-2ca7-4a53-d4d3-5c5a3e6f7ab1"
      },
      "source": [
        "# NOTE: this takes very long to run so we saved the validation errors in a pickle file\n",
        "\n",
        "values_c = [0.00001, 0.0001, 0.001, 0.01, 0.1, 0.3, 0.5, 0.7, 0.9,  1.0]\n",
        "train_acc_c = []\n",
        "val_acc_c = []\n",
        "for i in tqdm(range(len(values_c))):\n",
        "    \n",
        "    c = values_c[i]\n",
        "    # Define Logistic Regression model\n",
        "    np.random.seed(12345)\n",
        "    lr_model = LogisticRegression(random_state=2, C = c, solver='lbfgs', max_iter = 4000)\n",
        "    # Fit the model to training data\n",
        "    lr_model.fit(train_embed, train_label)\n",
        "    # make prediction using the trained model\n",
        "    y_train_pred = lr_model.predict(train_embed)\n",
        "    y_val_pred = lr_model.predict(val_embed)\n",
        "\n",
        "    train_accuracy = accuracy_score(train_label, y_train_pred)\n",
        "    val_accuracy = accuracy_score(val_label, y_val_pred)\n",
        "\n",
        "    print(\"Training accuracy:\", train_accuracy)\n",
        "    print(\"Validation accuracy:\", val_accuracy) \n",
        "    train_acc_c.append(train_accuracy)\n",
        "    val_acc_c.append(val_accuracy)\n",
        "\n",
        "\n",
        "\n",
        "with open('ee517_hw2_val_acc_c.data', 'wb') as data_save:\n",
        "    # store the data as binary data stream\n",
        "    pickle.dump([train_acc_c, val_acc_c], data_save)"
      ],
      "execution_count": null,
      "outputs": [
        {
          "output_type": "display_data",
          "data": {
            "application/vnd.jupyter.widget-view+json": {
              "model_id": "220c60bf62ff4e2dbe45da21bee18cbc",
              "version_minor": 0,
              "version_major": 2
            },
            "text/plain": [
              "HBox(children=(FloatProgress(value=0.0, max=10.0), HTML(value='')))"
            ]
          },
          "metadata": {
            "tags": []
          }
        },
        {
          "output_type": "stream",
          "text": [
            "Training accuracy: 0.5606790510443131\n",
            "Validation accuracy: 0.5567928730512249\n",
            "Training accuracy: 0.7801003068598014\n",
            "Validation accuracy: 0.7765404602821084\n",
            "Training accuracy: 0.8410763190022107\n",
            "Validation accuracy: 0.8417223459539718\n",
            "Training accuracy: 0.857013231266704\n",
            "Validation accuracy: 0.8580549368968077\n",
            "Training accuracy: 0.8668954366977926\n",
            "Validation accuracy: 0.8685968819599109\n",
            "Training accuracy: 0.8700960174217177\n",
            "Validation accuracy: 0.8711210096510764\n",
            "Training accuracy: 0.8710033985547894\n",
            "Validation accuracy: 0.8712694877505568\n",
            "Training accuracy: 0.8712838618141023\n",
            "Validation accuracy: 0.8712694877505568\n",
            "Training accuracy: 0.8713168574916685\n",
            "Validation accuracy: 0.8708240534521158\n",
            "Training accuracy: 0.871514831557066\n",
            "Validation accuracy: 0.8708240534521158\n",
            "\n"
          ],
          "name": "stdout"
        }
      ]
    },
    {
      "cell_type": "code",
      "metadata": {
        "id": "wvW2nTrnghAO"
      },
      "source": [
        "# Instead of taking a long time to try different setups on the validation set, we load the pickle file we saved\n",
        "with open('ee517_hw2_val_acc_c.data', 'rb') as filehandle:\n",
        "    # read the data as binary data stream\n",
        "    train_acc_c, val_acc_c = np.array(pickle.load(filehandle))"
      ],
      "execution_count": null,
      "outputs": []
    },
    {
      "cell_type": "markdown",
      "metadata": {
        "id": "yRj6ov18eaMk"
      },
      "source": [
        "We plot the accuracies obtained on the validation set across different representations and values of C."
      ]
    },
    {
      "cell_type": "code",
      "metadata": {
        "colab": {
          "base_uri": "https://localhost:8080/",
          "height": 388
        },
        "id": "BW64mBubeQrv",
        "outputId": "f1fb6c11-98e1-4ccf-edd7-9e061dcd9e01"
      },
      "source": [
        "plt.figure(figsize=(12,6))\n",
        "\n",
        "plt.plot(values_c, train_acc_c, 'bx-', label = \"Training accuracy\")\n",
        "plt.plot(values_c, val_acc_c, 'ro-', label = \"Validation accuracy\")\n",
        "\n",
        "\n",
        "#plt.title('Accuracy different setups')\n",
        "plt.xlabel('C, inverse of regularization strength')\n",
        "plt.ylabel('Accuracy')\n",
        "plt.legend(bbox_to_anchor=(1.04,1), loc=\"upper left\", fontsize=12)\n",
        "plt.show()"
      ],
      "execution_count": null,
      "outputs": [
        {
          "output_type": "display_data",
          "data": {
            "image/png": "[encoded data removed]",
            "text/plain": [
              "<Figure size 864x432 with 1 Axes>"
            ]
          },
          "metadata": {
            "tags": [],
            "needs_background": "light"
          }
        }
      ]
    },
    {
      "cell_type": "code",
      "metadata": {
        "colab": {
          "base_uri": "https://localhost:8080/"
        },
        "id": "5GcRqJnbfCEq",
        "outputId": "badc61fa-cbb1-425a-c6c5-bcadea8283e4"
      },
      "source": [
        "max_val_idx = np.where(val_acc_c == max(val_acc_c))[0][0]\n",
        "c_chosen = values_c[max_val_idx]\n",
        "print(\"C chosen :\", c_chosen, \"; Val acc\", val_acc_c[max_val_idx])"
      ],
      "execution_count": null,
      "outputs": [
        {
          "output_type": "stream",
          "text": [
            "C chosen : 0.5 ; Val acc 0.8712694877505568\n"
          ],
          "name": "stdout"
        }
      ]
    },
    {
      "cell_type": "markdown",
      "metadata": {
        "id": "6F0yVMrRfvar"
      },
      "source": [
        "We see that we obtained the highest validation accuracy of 87.13% when we set C = 0.5. Therefore, we will use this as our best model."
      ]
    },
    {
      "cell_type": "code",
      "metadata": {
        "id": "g_roG2JiM7fO"
      },
      "source": [
        "# Define Logistic Regression model\n",
        "#lr_model = LogisticRegression(random_state=0, solver='liblinear')\n",
        "lr_model = LogisticRegression(random_state=2, C = c_chosen, solver='lbfgs', max_iter = 4000)\n",
        "# Fit the model to training data\n",
        "lr_model.fit(train_embed, train_label)\n",
        "\n",
        "# make prediction using the trained model\n",
        "y_train_pred = lr_model.predict(train_embed)\n",
        "y_val_pred = lr_model.predict(dev_embed)"
      ],
      "execution_count": null,
      "outputs": []
    },
    {
      "cell_type": "code",
      "metadata": {
        "colab": {
          "base_uri": "https://localhost:8080/"
        },
        "id": "I5dyx1tlOZby",
        "outputId": "5cb6f3c2-57e7-4c07-918d-e5e7b46c8872"
      },
      "source": [
        "train_accuracy = accuracy_score(train_label, y_train_pred)\n",
        "val_accuracy = accuracy_score(dev_label, y_val_pred)\n",
        "\n",
        "print(\"Training accuracy:\", train_accuracy)\n",
        "print(\"Test accuracy:\", val_accuracy) "
      ],
      "execution_count": null,
      "outputs": [
        {
          "output_type": "stream",
          "text": [
            "Training accuracy: 0.8710033985547894\n",
            "Test accuracy: 0.8291284403669725\n"
          ],
          "name": "stdout"
        }
      ]
    },
    {
      "cell_type": "code",
      "metadata": {
        "id": "A1-l9exq1xTT"
      },
      "source": [
        ""
      ],
      "execution_count": null,
      "outputs": []
    }
  ]
}